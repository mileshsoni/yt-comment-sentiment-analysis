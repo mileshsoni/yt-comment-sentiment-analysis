{
 "cells": [
  {
   "cell_type": "code",
   "execution_count": 6,
   "id": "4eb171e8",
   "metadata": {},
   "outputs": [],
   "source": [
    "import mlflow\n",
    "mlflow.set_tracking_uri(\"http://ec2-18-233-10-235.compute-1.amazonaws.com:5000/\")"
   ]
  },
  {
   "cell_type": "code",
   "execution_count": 7,
   "id": "e926caba",
   "metadata": {},
   "outputs": [
    {
     "data": {
      "text/plain": [
       "<Experiment: artifact_location='s3://ms-mlflow-bucket/500246362129033379', creation_time=1751027568684, experiment_id='500246362129033379', last_update_time=1751027568684, lifecycle_stage='active', name='ML Algos with HP Tuning', tags={}>"
      ]
     },
     "execution_count": 7,
     "metadata": {},
     "output_type": "execute_result"
    }
   ],
   "source": [
    "# Set or create an experiment\n",
    "mlflow.set_experiment(\"ML Algos with HP Tuning\")"
   ]
  },
  {
   "cell_type": "code",
   "execution_count": 8,
   "id": "c445d975",
   "metadata": {},
   "outputs": [],
   "source": [
    "import pandas as pd\n",
    "from sklearn.feature_extraction.text import TfidfVectorizer\n",
    "from sklearn.model_selection import train_test_split\n",
    "from sklearn.naive_bayes import MultinomialNB\n",
    "from sklearn.metrics import accuracy_score, classification_report\n",
    "from imblearn.over_sampling import SMOTE\n",
    "import mlflow\n",
    "import mlflow.sklearn\n",
    "import optuna\n"
   ]
  },
  {
   "cell_type": "code",
   "execution_count": 9,
   "id": "07144361",
   "metadata": {},
   "outputs": [
    {
     "data": {
      "text/plain": [
       "(36243, 2)"
      ]
     },
     "execution_count": 9,
     "metadata": {},
     "output_type": "execute_result"
    }
   ],
   "source": [
    "df = pd.read_csv('data_preprocessed.csv').dropna().drop_duplicates()\n",
    "df.shape"
   ]
  },
  {
   "cell_type": "code",
   "execution_count": 10,
   "id": "375de30f",
   "metadata": {},
   "outputs": [
    {
     "name": "stderr",
     "output_type": "stream",
     "text": [
      "[I 2025-06-27 21:09:16,610] A new study created in memory with name: no-name-4f862267-2bfe-45da-8583-9c8bb37bef84\n",
      "[I 2025-06-27 21:09:16,754] Trial 0 finished with value: 0.703404255319149 and parameters: {'alpha': 0.6933609065178119}. Best is trial 0 with value: 0.703404255319149.\n",
      "[I 2025-06-27 21:09:16,786] Trial 1 finished with value: 0.7080851063829787 and parameters: {'alpha': 0.014297443489814227}. Best is trial 1 with value: 0.7080851063829787.\n",
      "[I 2025-06-27 21:09:16,816] Trial 2 finished with value: 0.7072340425531914 and parameters: {'alpha': 0.04200736432184733}. Best is trial 1 with value: 0.7080851063829787.\n",
      "[I 2025-06-27 21:09:16,850] Trial 3 finished with value: 0.7081914893617022 and parameters: {'alpha': 0.009665521170052363}. Best is trial 3 with value: 0.7081914893617022.\n",
      "[I 2025-06-27 21:09:16,875] Trial 4 finished with value: 0.7074468085106383 and parameters: {'alpha': 0.032603374038275214}. Best is trial 3 with value: 0.7081914893617022.\n",
      "[I 2025-06-27 21:09:16,900] Trial 5 finished with value: 0.7086170212765958 and parameters: {'alpha': 0.0008964589569860264}. Best is trial 5 with value: 0.7086170212765958.\n",
      "[I 2025-06-27 21:09:16,938] Trial 6 finished with value: 0.7080851063829787 and parameters: {'alpha': 0.011705542623676827}. Best is trial 5 with value: 0.7086170212765958.\n",
      "[I 2025-06-27 21:09:16,966] Trial 7 finished with value: 0.7081914893617022 and parameters: {'alpha': 0.010567617619001785}. Best is trial 5 with value: 0.7086170212765958.\n",
      "[I 2025-06-27 21:09:16,997] Trial 8 finished with value: 0.708404255319149 and parameters: {'alpha': 0.0043409273472165034}. Best is trial 5 with value: 0.7086170212765958.\n",
      "[I 2025-06-27 21:09:17,023] Trial 9 finished with value: 0.7076595744680851 and parameters: {'alpha': 0.027879088260421753}. Best is trial 5 with value: 0.7086170212765958.\n",
      "[I 2025-06-27 21:09:17,074] Trial 10 finished with value: 0.7087234042553191 and parameters: {'alpha': 0.00015667440821606825}. Best is trial 10 with value: 0.7087234042553191.\n",
      "[I 2025-06-27 21:09:17,115] Trial 11 finished with value: 0.7087234042553191 and parameters: {'alpha': 0.00010163170302970679}. Best is trial 10 with value: 0.7087234042553191.\n",
      "[I 2025-06-27 21:09:17,159] Trial 12 finished with value: 0.7087234042553191 and parameters: {'alpha': 0.00010770066783140971}. Best is trial 10 with value: 0.7087234042553191.\n",
      "[I 2025-06-27 21:09:17,193] Trial 13 finished with value: 0.7087234042553191 and parameters: {'alpha': 0.00014449066086836358}. Best is trial 10 with value: 0.7087234042553191.\n",
      "[I 2025-06-27 21:09:17,233] Trial 14 finished with value: 0.7087234042553191 and parameters: {'alpha': 0.0005143280000639872}. Best is trial 10 with value: 0.7087234042553191.\n",
      "[I 2025-06-27 21:09:17,266] Trial 15 finished with value: 0.7086170212765958 and parameters: {'alpha': 0.0010759912019737174}. Best is trial 10 with value: 0.7087234042553191.\n",
      "[I 2025-06-27 21:09:17,307] Trial 16 finished with value: 0.7087234042553191 and parameters: {'alpha': 0.00033623321114293275}. Best is trial 10 with value: 0.7087234042553191.\n",
      "[I 2025-06-27 21:09:17,346] Trial 17 finished with value: 0.7085106382978723 and parameters: {'alpha': 0.0022660906687000278}. Best is trial 10 with value: 0.7087234042553191.\n",
      "[I 2025-06-27 21:09:17,383] Trial 18 finished with value: 0.7057446808510638 and parameters: {'alpha': 0.16140155022321098}. Best is trial 10 with value: 0.7087234042553191.\n",
      "[I 2025-06-27 21:09:17,426] Trial 19 finished with value: 0.7087234042553191 and parameters: {'alpha': 0.00026024220903687466}. Best is trial 10 with value: 0.7087234042553191.\n",
      "[I 2025-06-27 21:09:17,463] Trial 20 finished with value: 0.7085106382978723 and parameters: {'alpha': 0.001564129628081315}. Best is trial 10 with value: 0.7087234042553191.\n",
      "[I 2025-06-27 21:09:17,508] Trial 21 finished with value: 0.7087234042553191 and parameters: {'alpha': 0.00010782631600506513}. Best is trial 10 with value: 0.7087234042553191.\n",
      "[I 2025-06-27 21:09:17,545] Trial 22 finished with value: 0.7087234042553191 and parameters: {'alpha': 0.00010351349259927009}. Best is trial 10 with value: 0.7087234042553191.\n",
      "[I 2025-06-27 21:09:17,585] Trial 23 finished with value: 0.7087234042553191 and parameters: {'alpha': 0.0002777746896805107}. Best is trial 10 with value: 0.7087234042553191.\n",
      "[I 2025-06-27 21:09:17,613] Trial 24 finished with value: 0.7087234042553191 and parameters: {'alpha': 0.0007138375831759401}. Best is trial 10 with value: 0.7087234042553191.\n",
      "[I 2025-06-27 21:09:17,652] Trial 25 finished with value: 0.7087234042553191 and parameters: {'alpha': 0.00024086389286040046}. Best is trial 10 with value: 0.7087234042553191.\n",
      "[I 2025-06-27 21:09:17,706] Trial 26 finished with value: 0.7085106382978723 and parameters: {'alpha': 0.0031987807309993618}. Best is trial 10 with value: 0.7087234042553191.\n",
      "[I 2025-06-27 21:09:17,749] Trial 27 finished with value: 0.7087234042553191 and parameters: {'alpha': 0.0004376221546711507}. Best is trial 10 with value: 0.7087234042553191.\n",
      "[I 2025-06-27 21:09:17,789] Trial 28 finished with value: 0.7087234042553191 and parameters: {'alpha': 0.00017100524837350263}. Best is trial 10 with value: 0.7087234042553191.\n",
      "[I 2025-06-27 21:09:17,826] Trial 29 finished with value: 0.7057446808510638 and parameters: {'alpha': 0.17634521786271704}. Best is trial 10 with value: 0.7087234042553191.\n",
      "2025/06/27 21:09:48 WARNING mlflow.models.model: `artifact_path` is deprecated. Please use `name` instead.\n",
      "2025/06/27 21:10:12 WARNING mlflow.models.model: Model logged without a signature and input example. Please set `input_example` parameter when logging the model to auto infer the model signature.\n"
     ]
    },
    {
     "name": "stdout",
     "output_type": "stream",
     "text": [
      "🏃 View run MultinomialNB_SMOTE_TFIDF_Trigrams at: http://ec2-18-233-10-235.compute-1.amazonaws.com:5000/#/experiments/500246362129033379/runs/56f29f607f06405dbd0d77b143450c05\n",
      "🧪 View experiment at: http://ec2-18-233-10-235.compute-1.amazonaws.com:5000/#/experiments/500246362129033379\n"
     ]
    }
   ],
   "source": [
    "# Step 1: (Optional) Remapping - skipped since not strictly needed for Multinomial Naive Bayes\n",
    "\n",
    "# Step 2: Remove rows where the target labels (category) are NaN\n",
    "df = df.dropna(subset=['category'])\n",
    "\n",
    "# Step 3: TF-IDF vectorizer setup\n",
    "ngram_range = (1, 3)  # Trigram\n",
    "max_features = 2000  # Set max_features to 1000\n",
    "vectorizer = TfidfVectorizer(ngram_range=ngram_range, max_features=max_features)\n",
    "X = vectorizer.fit_transform(df['clean_comment'])\n",
    "y = df['category']\n",
    "\n",
    "# Step 4: Apply SMOTE to handle class imbalance\n",
    "smote = SMOTE(random_state=42)\n",
    "X_resampled, y_resampled = smote.fit_resample(X, y)\n",
    "\n",
    "# Step 5: Train-test split\n",
    "X_train, X_test, y_train, y_test = train_test_split(X_resampled, y_resampled, test_size=0.2, random_state=42, stratify=y_resampled)\n",
    "\n",
    "# Function to log results in MLflow\n",
    "def log_mlflow(model_name, model, X_train, X_test, y_train, y_test):\n",
    "    with mlflow.start_run():\n",
    "        # Log model type\n",
    "        mlflow.set_tag(\"mlflow.runName\", f\"{model_name}_SMOTE_TFIDF_Trigrams\")\n",
    "        mlflow.set_tag(\"experiment_type\", \"algorithm_comparison\")\n",
    "\n",
    "        # Log algorithm name as a parameter\n",
    "        mlflow.log_param(\"algo_name\", model_name)\n",
    "\n",
    "        # Train model\n",
    "        model.fit(X_train, y_train)\n",
    "        y_pred = model.predict(X_test)\n",
    "\n",
    "        # Log accuracy\n",
    "        accuracy = accuracy_score(y_test, y_pred)\n",
    "        mlflow.log_metric(\"accuracy\", accuracy)\n",
    "\n",
    "        # Log classification report\n",
    "        classification_rep = classification_report(y_test, y_pred, output_dict=True)\n",
    "        for label, metrics in classification_rep.items():\n",
    "            if isinstance(metrics, dict):\n",
    "                for metric, value in metrics.items():\n",
    "                    mlflow.log_metric(f\"{label}_{metric}\", value)\n",
    "\n",
    "        # Log the model\n",
    "        mlflow.sklearn.log_model(model, f\"{model_name}_model\")\n",
    "\n",
    "\n",
    "# Step 6: Optuna objective function for Multinomial Naive Bayes\n",
    "def objective_mnb(trial):\n",
    "    alpha = trial.suggest_float('alpha', 1e-4, 1.0, log=True)  # Tuning the smoothing parameter\n",
    "\n",
    "    # MultinomialNB model setup\n",
    "    model = MultinomialNB(alpha=alpha)\n",
    "    return accuracy_score(y_test, model.fit(X_train, y_train).predict(X_test))\n",
    "\n",
    "\n",
    "# Step 7: Run Optuna for Multinomial Naive Bayes, log the best model only\n",
    "def run_optuna_experiment():\n",
    "    study = optuna.create_study(direction=\"maximize\")\n",
    "    study.optimize(objective_mnb, n_trials=30)\n",
    "\n",
    "    # Get the best parameters and log only the best model\n",
    "    best_params = study.best_params\n",
    "    best_model = MultinomialNB(alpha=best_params['alpha'])\n",
    "\n",
    "    # Log the best model with MLflow, passing the algo_name as \"MultinomialNB\"\n",
    "    log_mlflow(\"MultinomialNB\", best_model, X_train, X_test, y_train, y_test)\n",
    "\n",
    "# Run the experiment for Multinomial Naive Bayes\n",
    "run_optuna_experiment()\n"
   ]
  },
  {
   "cell_type": "code",
   "execution_count": null,
   "id": "4b4aa340",
   "metadata": {},
   "outputs": [],
   "source": []
  }
 ],
 "metadata": {
  "kernelspec": {
   "display_name": "myenv",
   "language": "python",
   "name": "python3"
  },
  "language_info": {
   "codemirror_mode": {
    "name": "ipython",
    "version": 3
   },
   "file_extension": ".py",
   "mimetype": "text/x-python",
   "name": "python",
   "nbconvert_exporter": "python",
   "pygments_lexer": "ipython3",
   "version": "3.11.3"
  }
 },
 "nbformat": 4,
 "nbformat_minor": 5
}
