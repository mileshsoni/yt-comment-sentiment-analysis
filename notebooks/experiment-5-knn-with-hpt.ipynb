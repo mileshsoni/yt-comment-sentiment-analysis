{
 "cells": [
  {
   "cell_type": "code",
   "execution_count": 6,
   "id": "e92f523f",
   "metadata": {},
   "outputs": [],
   "source": [
    "import mlflow\n",
    "mlflow.set_tracking_uri(\"http://ec2-18-233-10-235.compute-1.amazonaws.com:5000/\")"
   ]
  },
  {
   "cell_type": "code",
   "execution_count": 7,
   "id": "42984bcf",
   "metadata": {},
   "outputs": [
    {
     "data": {
      "text/plain": [
       "<Experiment: artifact_location='s3://ms-mlflow-bucket/500246362129033379', creation_time=1751027568684, experiment_id='500246362129033379', last_update_time=1751027568684, lifecycle_stage='active', name='ML Algos with HP Tuning', tags={}>"
      ]
     },
     "execution_count": 7,
     "metadata": {},
     "output_type": "execute_result"
    }
   ],
   "source": [
    "# Set or create an experiment\n",
    "mlflow.set_experiment(\"ML Algos with HP Tuning\")"
   ]
  },
  {
   "cell_type": "code",
   "execution_count": 8,
   "id": "0f4f71be",
   "metadata": {},
   "outputs": [],
   "source": [
    "import pandas as pd\n",
    "from sklearn.feature_extraction.text import TfidfVectorizer\n",
    "from sklearn.model_selection import train_test_split\n",
    "from sklearn.neighbors import KNeighborsClassifier\n",
    "from sklearn.metrics import accuracy_score, classification_report\n",
    "from imblearn.over_sampling import SMOTE\n",
    "import mlflow\n",
    "import mlflow.sklearn\n",
    "import optuna\n"
   ]
  },
  {
   "cell_type": "code",
   "execution_count": 9,
   "id": "ed59d037",
   "metadata": {},
   "outputs": [
    {
     "data": {
      "text/plain": [
       "(36243, 2)"
      ]
     },
     "execution_count": 9,
     "metadata": {},
     "output_type": "execute_result"
    }
   ],
   "source": [
    "df = pd.read_csv('data_preprocessed.csv').dropna().drop_duplicates()\n",
    "df.shape"
   ]
  },
  {
   "cell_type": "code",
   "execution_count": 10,
   "id": "171df55b",
   "metadata": {},
   "outputs": [
    {
     "name": "stderr",
     "output_type": "stream",
     "text": [
      "[I 2025-06-27 21:07:13,901] A new study created in memory with name: no-name-b1520b48-fbd1-4f84-99ed-b51c892ee3ff\n",
      "[I 2025-06-27 21:07:21,964] Trial 0 finished with value: 0.49361702127659574 and parameters: {'n_neighbors': 24, 'p': 2}. Best is trial 0 with value: 0.49361702127659574.\n",
      "[I 2025-06-27 21:07:28,839] Trial 1 finished with value: 0.5051063829787235 and parameters: {'n_neighbors': 20, 'p': 2}. Best is trial 1 with value: 0.5051063829787235.\n",
      "[I 2025-06-27 21:07:36,091] Trial 2 finished with value: 0.5804255319148937 and parameters: {'n_neighbors': 3, 'p': 2}. Best is trial 2 with value: 0.5804255319148937.\n",
      "[I 2025-06-27 21:07:42,036] Trial 3 finished with value: 0.3624468085106383 and parameters: {'n_neighbors': 12, 'p': 1}. Best is trial 2 with value: 0.5804255319148937.\n",
      "[I 2025-06-27 21:07:48,078] Trial 4 finished with value: 0.3930851063829787 and parameters: {'n_neighbors': 4, 'p': 1}. Best is trial 2 with value: 0.5804255319148937.\n",
      "[I 2025-06-27 21:07:53,986] Trial 5 finished with value: 0.34914893617021275 and parameters: {'n_neighbors': 30, 'p': 1}. Best is trial 2 with value: 0.5804255319148937.\n",
      "[I 2025-06-27 21:08:00,518] Trial 6 finished with value: 0.35893617021276597 and parameters: {'n_neighbors': 17, 'p': 1}. Best is trial 2 with value: 0.5804255319148937.\n",
      "[I 2025-06-27 21:08:07,276] Trial 7 finished with value: 0.34925531914893615 and parameters: {'n_neighbors': 27, 'p': 1}. Best is trial 2 with value: 0.5804255319148937.\n",
      "[I 2025-06-27 21:08:15,059] Trial 8 finished with value: 0.3677659574468085 and parameters: {'n_neighbors': 9, 'p': 1}. Best is trial 2 with value: 0.5804255319148937.\n",
      "[I 2025-06-27 21:08:31,763] Trial 9 finished with value: 0.47702127659574467 and parameters: {'n_neighbors': 30, 'p': 2}. Best is trial 2 with value: 0.5804255319148937.\n",
      "[I 2025-06-27 21:08:51,338] Trial 10 finished with value: 0.5627659574468085 and parameters: {'n_neighbors': 4, 'p': 2}. Best is trial 2 with value: 0.5804255319148937.\n",
      "[I 2025-06-27 21:09:07,848] Trial 11 finished with value: 0.5804255319148937 and parameters: {'n_neighbors': 3, 'p': 2}. Best is trial 2 with value: 0.5804255319148937.\n",
      "[I 2025-06-27 21:09:24,633] Trial 12 finished with value: 0.5451063829787234 and parameters: {'n_neighbors': 9, 'p': 2}. Best is trial 2 with value: 0.5804255319148937.\n",
      "[I 2025-06-27 21:09:41,421] Trial 13 finished with value: 0.5804255319148937 and parameters: {'n_neighbors': 3, 'p': 2}. Best is trial 2 with value: 0.5804255319148937.\n",
      "[I 2025-06-27 21:09:56,667] Trial 14 finished with value: 0.5451063829787234 and parameters: {'n_neighbors': 9, 'p': 2}. Best is trial 2 with value: 0.5804255319148937.\n",
      "[I 2025-06-27 21:10:11,843] Trial 15 finished with value: 0.5324468085106383 and parameters: {'n_neighbors': 13, 'p': 2}. Best is trial 2 with value: 0.5804255319148937.\n",
      "[I 2025-06-27 21:10:27,099] Trial 16 finished with value: 0.5548936170212766 and parameters: {'n_neighbors': 7, 'p': 2}. Best is trial 2 with value: 0.5804255319148937.\n",
      "[I 2025-06-27 21:10:42,603] Trial 17 finished with value: 0.5324468085106383 and parameters: {'n_neighbors': 13, 'p': 2}. Best is trial 2 with value: 0.5804255319148937.\n",
      "[I 2025-06-27 21:10:57,702] Trial 18 finished with value: 0.5527659574468086 and parameters: {'n_neighbors': 6, 'p': 2}. Best is trial 2 with value: 0.5804255319148937.\n",
      "[I 2025-06-27 21:11:13,227] Trial 19 finished with value: 0.5137234042553191 and parameters: {'n_neighbors': 18, 'p': 2}. Best is trial 2 with value: 0.5804255319148937.\n",
      "[I 2025-06-27 21:11:27,096] Trial 20 finished with value: 0.5031914893617021 and parameters: {'n_neighbors': 21, 'p': 2}. Best is trial 2 with value: 0.5804255319148937.\n",
      "[I 2025-06-27 21:11:41,360] Trial 21 finished with value: 0.5804255319148937 and parameters: {'n_neighbors': 3, 'p': 2}. Best is trial 2 with value: 0.5804255319148937.\n",
      "[I 2025-06-27 21:11:55,548] Trial 22 finished with value: 0.5527659574468086 and parameters: {'n_neighbors': 6, 'p': 2}. Best is trial 2 with value: 0.5804255319148937.\n",
      "[I 2025-06-27 21:12:09,711] Trial 23 finished with value: 0.5804255319148937 and parameters: {'n_neighbors': 3, 'p': 2}. Best is trial 2 with value: 0.5804255319148937.\n",
      "[I 2025-06-27 21:12:24,902] Trial 24 finished with value: 0.5379787234042553 and parameters: {'n_neighbors': 11, 'p': 2}. Best is trial 2 with value: 0.5804255319148937.\n",
      "[I 2025-06-27 21:12:39,115] Trial 25 finished with value: 0.5527659574468086 and parameters: {'n_neighbors': 6, 'p': 2}. Best is trial 2 with value: 0.5804255319148937.\n",
      "[I 2025-06-27 21:12:53,244] Trial 26 finished with value: 0.546063829787234 and parameters: {'n_neighbors': 8, 'p': 2}. Best is trial 2 with value: 0.5804255319148937.\n",
      "[I 2025-06-27 21:13:08,369] Trial 27 finished with value: 0.5630851063829787 and parameters: {'n_neighbors': 5, 'p': 2}. Best is trial 2 with value: 0.5804255319148937.\n",
      "[I 2025-06-27 21:13:23,147] Trial 28 finished with value: 0.5804255319148937 and parameters: {'n_neighbors': 3, 'p': 2}. Best is trial 2 with value: 0.5804255319148937.\n",
      "[I 2025-06-27 21:13:38,798] Trial 29 finished with value: 0.5246808510638298 and parameters: {'n_neighbors': 15, 'p': 2}. Best is trial 2 with value: 0.5804255319148937.\n",
      "2025/06/27 21:14:23 WARNING mlflow.models.model: `artifact_path` is deprecated. Please use `name` instead.\n",
      "2025/06/27 21:14:53 WARNING mlflow.models.model: Model logged without a signature and input example. Please set `input_example` parameter when logging the model to auto infer the model signature.\n"
     ]
    },
    {
     "name": "stdout",
     "output_type": "stream",
     "text": [
      "🏃 View run KNN_SMOTE_TFIDF_Trigrams at: http://ec2-18-233-10-235.compute-1.amazonaws.com:5000/#/experiments/500246362129033379/runs/bccbdb5a82ba44ee876c3f27fbbde688\n",
      "🧪 View experiment at: http://ec2-18-233-10-235.compute-1.amazonaws.com:5000/#/experiments/500246362129033379\n"
     ]
    }
   ],
   "source": [
    "# Step 1: (Optional) Remapping - skipped since not strictly needed for KNN\n",
    "\n",
    "# Step 2: Remove rows where the target labels (category) are NaN\n",
    "df = df.dropna(subset=['category'])\n",
    "\n",
    "# Step 3: TF-IDF vectorizer setup\n",
    "ngram_range = (1, 3)  # Trigram\n",
    "max_features = 2000  # Set max_features to 1000\n",
    "vectorizer = TfidfVectorizer(ngram_range=ngram_range, max_features=max_features)\n",
    "X = vectorizer.fit_transform(df['clean_comment'])\n",
    "y = df['category']\n",
    "\n",
    "# Step 4: Apply SMOTE to handle class imbalance\n",
    "smote = SMOTE(random_state=42)\n",
    "X_resampled, y_resampled = smote.fit_resample(X, y)\n",
    "\n",
    "# Step 5: Train-test split\n",
    "X_train, X_test, y_train, y_test = train_test_split(X_resampled, y_resampled, test_size=0.2, random_state=42, stratify=y_resampled)\n",
    "\n",
    "# Function to log results in MLflow\n",
    "def log_mlflow(model_name, model, X_train, X_test, y_train, y_test):\n",
    "    with mlflow.start_run():\n",
    "        # Log model type\n",
    "        mlflow.set_tag(\"mlflow.runName\", f\"{model_name}_SMOTE_TFIDF_Trigrams\")\n",
    "        mlflow.set_tag(\"experiment_type\", \"algorithm_comparison\")\n",
    "\n",
    "        # Log algorithm name as a parameter\n",
    "        mlflow.log_param(\"algo_name\", model_name)\n",
    "\n",
    "        # Train model\n",
    "        model.fit(X_train, y_train)\n",
    "        y_pred = model.predict(X_test)\n",
    "\n",
    "        # Log accuracy\n",
    "        accuracy = accuracy_score(y_test, y_pred)\n",
    "        mlflow.log_metric(\"accuracy\", accuracy)\n",
    "\n",
    "        # Log classification report\n",
    "        classification_rep = classification_report(y_test, y_pred, output_dict=True)\n",
    "        for label, metrics in classification_rep.items():\n",
    "            if isinstance(metrics, dict):\n",
    "                for metric, value in metrics.items():\n",
    "                    mlflow.log_metric(f\"{label}_{metric}\", value)\n",
    "\n",
    "        # Log the model\n",
    "        mlflow.sklearn.log_model(model, f\"{model_name}_model\")\n",
    "\n",
    "\n",
    "# Step 6: Optuna objective function for KNN\n",
    "def objective_knn(trial):\n",
    "    n_neighbors = trial.suggest_int('n_neighbors', 3, 30)  # Tuning the number of neighbors\n",
    "    p = trial.suggest_categorical('p', [1, 2])  # Tuning the distance metric (1 for Manhattan, 2 for Euclidean)\n",
    "\n",
    "    # KNeighborsClassifier setup\n",
    "    model = KNeighborsClassifier(n_neighbors=n_neighbors, p=p)\n",
    "    return accuracy_score(y_test, model.fit(X_train, y_train).predict(X_test))\n",
    "\n",
    "\n",
    "# Step 7: Run Optuna for KNN, log the best model only\n",
    "def run_optuna_experiment():\n",
    "    study = optuna.create_study(direction=\"maximize\")\n",
    "    study.optimize(objective_knn, n_trials=30)\n",
    "\n",
    "    # Get the best parameters and log only the best model\n",
    "    best_params = study.best_params\n",
    "    best_model = KNeighborsClassifier(n_neighbors=best_params['n_neighbors'], p=best_params['p'])\n",
    "\n",
    "    # Log the best model with MLflow, passing the algo_name as \"KNN\"\n",
    "    log_mlflow(\"KNN\", best_model, X_train, X_test, y_train, y_test)\n",
    "\n",
    "# Run the experiment for KNN\n",
    "run_optuna_experiment()\n"
   ]
  },
  {
   "cell_type": "code",
   "execution_count": null,
   "id": "c22f71c2",
   "metadata": {},
   "outputs": [],
   "source": []
  }
 ],
 "metadata": {
  "kernelspec": {
   "display_name": "myenv",
   "language": "python",
   "name": "python3"
  },
  "language_info": {
   "codemirror_mode": {
    "name": "ipython",
    "version": 3
   },
   "file_extension": ".py",
   "mimetype": "text/x-python",
   "name": "python",
   "nbconvert_exporter": "python",
   "pygments_lexer": "ipython3",
   "version": "3.11.3"
  }
 },
 "nbformat": 4,
 "nbformat_minor": 5
}
