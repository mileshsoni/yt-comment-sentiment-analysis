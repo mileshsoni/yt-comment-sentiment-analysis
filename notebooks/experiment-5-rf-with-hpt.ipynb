{
 "cells": [
  {
   "cell_type": "code",
   "execution_count": 6,
   "id": "f1b83581",
   "metadata": {},
   "outputs": [],
   "source": [
    "import mlflow\n",
    "mlflow.set_tracking_uri(\"http://ec2-18-233-10-235.compute-1.amazonaws.com:5000/\")"
   ]
  },
  {
   "cell_type": "code",
   "execution_count": 7,
   "id": "f8558d98",
   "metadata": {},
   "outputs": [
    {
     "data": {
      "text/plain": [
       "<Experiment: artifact_location='s3://ms-mlflow-bucket/500246362129033379', creation_time=1751027568684, experiment_id='500246362129033379', last_update_time=1751027568684, lifecycle_stage='active', name='ML Algos with HP Tuning', tags={}>"
      ]
     },
     "execution_count": 7,
     "metadata": {},
     "output_type": "execute_result"
    }
   ],
   "source": [
    "# Set or create an experiment\n",
    "mlflow.set_experiment(\"ML Algos with HP Tuning\")"
   ]
  },
  {
   "cell_type": "code",
   "execution_count": 8,
   "id": "a774a614",
   "metadata": {},
   "outputs": [],
   "source": [
    "import pandas as pd\n",
    "from sklearn.feature_extraction.text import TfidfVectorizer\n",
    "from sklearn.model_selection import train_test_split\n",
    "from sklearn.ensemble import RandomForestClassifier\n",
    "from sklearn.metrics import accuracy_score, classification_report\n",
    "from imblearn.over_sampling import SMOTE\n",
    "import mlflow\n",
    "import mlflow.sklearn\n",
    "import optuna\n"
   ]
  },
  {
   "cell_type": "code",
   "execution_count": 9,
   "id": "23f164fc",
   "metadata": {},
   "outputs": [
    {
     "data": {
      "text/plain": [
       "(36243, 2)"
      ]
     },
     "execution_count": 9,
     "metadata": {},
     "output_type": "execute_result"
    }
   ],
   "source": [
    "df = pd.read_csv('data_preprocessed.csv').dropna().drop_duplicates()\n",
    "df.shape"
   ]
  },
  {
   "cell_type": "code",
   "execution_count": null,
   "id": "1266412d",
   "metadata": {},
   "outputs": [
    {
     "name": "stderr",
     "output_type": "stream",
     "text": [
      "[I 2025-06-27 21:08:40,011] A new study created in memory with name: no-name-9cebbcab-f1c3-4c98-8429-464e2a899ab7\n",
      "[I 2025-06-27 21:08:52,547] Trial 0 finished with value: 0.6861702127659575 and parameters: {'n_estimators': 215, 'max_depth': 12, 'min_samples_split': 15, 'min_samples_leaf': 4}. Best is trial 0 with value: 0.6861702127659575.\n",
      "[I 2025-06-27 21:09:07,055] Trial 1 finished with value: 0.6784042553191489 and parameters: {'n_estimators': 267, 'max_depth': 12, 'min_samples_split': 16, 'min_samples_leaf': 14}. Best is trial 0 with value: 0.6861702127659575.\n",
      "[I 2025-06-27 21:09:23,786] Trial 2 finished with value: 0.7071276595744681 and parameters: {'n_estimators': 182, 'max_depth': 19, 'min_samples_split': 3, 'min_samples_leaf': 6}. Best is trial 2 with value: 0.7071276595744681.\n",
      "[I 2025-06-27 21:09:31,186] Trial 3 finished with value: 0.6547872340425532 and parameters: {'n_estimators': 174, 'max_depth': 8, 'min_samples_split': 15, 'min_samples_leaf': 11}. Best is trial 2 with value: 0.7071276595744681.\n",
      "[I 2025-06-27 21:09:36,670] Trial 4 finished with value: 0.6469148936170213 and parameters: {'n_estimators': 135, 'max_depth': 7, 'min_samples_split': 6, 'min_samples_leaf': 2}. Best is trial 2 with value: 0.7071276595744681.\n",
      "[I 2025-06-27 21:09:53,279] Trial 5 finished with value: 0.7028723404255319 and parameters: {'n_estimators': 191, 'max_depth': 16, 'min_samples_split': 20, 'min_samples_leaf': 1}. Best is trial 2 with value: 0.7071276595744681.\n",
      "[I 2025-06-27 21:09:57,389] Trial 6 finished with value: 0.6731914893617021 and parameters: {'n_estimators': 73, 'max_depth': 14, 'min_samples_split': 18, 'min_samples_leaf': 18}. Best is trial 2 with value: 0.7071276595744681.\n",
      "[I 2025-06-27 21:10:20,149] Trial 7 finished with value: 0.7068085106382979 and parameters: {'n_estimators': 244, 'max_depth': 19, 'min_samples_split': 4, 'min_samples_leaf': 5}. Best is trial 2 with value: 0.7071276595744681.\n",
      "[I 2025-06-27 21:10:44,671] Trial 8 finished with value: 0.7143617021276596 and parameters: {'n_estimators': 225, 'max_depth': 20, 'min_samples_split': 13, 'min_samples_leaf': 3}. Best is trial 8 with value: 0.7143617021276596.\n",
      "[I 2025-06-27 21:10:56,765] Trial 9 finished with value: 0.6820212765957446 and parameters: {'n_estimators': 201, 'max_depth': 13, 'min_samples_split': 9, 'min_samples_leaf': 8}. Best is trial 8 with value: 0.7143617021276596.\n",
      "[I 2025-06-27 21:11:04,250] Trial 10 finished with value: 0.6265957446808511 and parameters: {'n_estimators': 293, 'max_depth': 4, 'min_samples_split': 11, 'min_samples_leaf': 20}. Best is trial 8 with value: 0.7143617021276596.\n",
      "[I 2025-06-27 21:11:16,169] Trial 11 finished with value: 0.7061702127659575 and parameters: {'n_estimators': 141, 'max_depth': 20, 'min_samples_split': 2, 'min_samples_leaf': 7}. Best is trial 8 with value: 0.7143617021276596.\n",
      "[I 2025-06-27 21:11:26,306] Trial 12 finished with value: 0.6907446808510638 and parameters: {'n_estimators': 153, 'max_depth': 17, 'min_samples_split': 8, 'min_samples_leaf': 10}. Best is trial 8 with value: 0.7143617021276596.\n",
      "[I 2025-06-27 21:11:33,739] Trial 13 finished with value: 0.6936170212765957 and parameters: {'n_estimators': 102, 'max_depth': 17, 'min_samples_split': 12, 'min_samples_leaf': 5}. Best is trial 8 with value: 0.7143617021276596.\n",
      "[I 2025-06-27 21:11:57,982] Trial 14 finished with value: 0.7154255319148937 and parameters: {'n_estimators': 234, 'max_depth': 20, 'min_samples_split': 12, 'min_samples_leaf': 3}. Best is trial 14 with value: 0.7154255319148937.\n",
      "[I 2025-06-27 21:12:08,448] Trial 15 finished with value: 0.6675531914893617 and parameters: {'n_estimators': 243, 'max_depth': 9, 'min_samples_split': 13, 'min_samples_leaf': 2}. Best is trial 14 with value: 0.7154255319148937.\n",
      "[I 2025-06-27 21:12:23,131] Trial 16 finished with value: 0.6877659574468085 and parameters: {'n_estimators': 230, 'max_depth': 15, 'min_samples_split': 10, 'min_samples_leaf': 10}. Best is trial 14 with value: 0.7154255319148937.\n",
      "[I 2025-06-27 21:12:43,026] Trial 17 finished with value: 0.7042553191489361 and parameters: {'n_estimators': 293, 'max_depth': 20, 'min_samples_split': 7, 'min_samples_leaf': 14}. Best is trial 14 with value: 0.7154255319148937.\n",
      "[I 2025-06-27 21:13:07,373] Trial 18 finished with value: 0.7081914893617022 and parameters: {'n_estimators': 266, 'max_depth': 18, 'min_samples_split': 13, 'min_samples_leaf': 3}. Best is trial 14 with value: 0.7154255319148937.\n",
      "[I 2025-06-27 21:13:17,494] Trial 19 finished with value: 0.6672340425531915 and parameters: {'n_estimators': 222, 'max_depth': 10, 'min_samples_split': 17, 'min_samples_leaf': 8}. Best is trial 14 with value: 0.7154255319148937.\n",
      "[I 2025-06-27 21:13:24,034] Trial 20 finished with value: 0.6268085106382979 and parameters: {'n_estimators': 272, 'max_depth': 4, 'min_samples_split': 14, 'min_samples_leaf': 13}. Best is trial 14 with value: 0.7154255319148937.\n",
      "[I 2025-06-27 21:13:48,393] Trial 21 finished with value: 0.7075531914893617 and parameters: {'n_estimators': 264, 'max_depth': 18, 'min_samples_split': 13, 'min_samples_leaf': 3}. Best is trial 14 with value: 0.7154255319148937.\n",
      "[I 2025-06-27 21:14:17,660] Trial 22 finished with value: 0.7217021276595744 and parameters: {'n_estimators': 254, 'max_depth': 20, 'min_samples_split': 11, 'min_samples_leaf': 1}. Best is trial 22 with value: 0.7217021276595744.\n",
      "[I 2025-06-27 21:14:46,564] Trial 23 finished with value: 0.7202127659574468 and parameters: {'n_estimators': 244, 'max_depth': 20, 'min_samples_split': 11, 'min_samples_leaf': 1}. Best is trial 22 with value: 0.7217021276595744.\n",
      "[I 2025-06-27 21:15:06,906] Trial 24 finished with value: 0.7028723404255319 and parameters: {'n_estimators': 245, 'max_depth': 16, 'min_samples_split': 10, 'min_samples_leaf': 1}. Best is trial 22 with value: 0.7217021276595744.\n",
      "[I 2025-06-27 21:15:26,924] Trial 25 finished with value: 0.715 and parameters: {'n_estimators': 207, 'max_depth': 18, 'min_samples_split': 11, 'min_samples_leaf': 1}. Best is trial 22 with value: 0.7217021276595744.\n",
      "[I 2025-06-27 21:15:45,626] Trial 26 finished with value: 0.6937234042553192 and parameters: {'n_estimators': 286, 'max_depth': 15, 'min_samples_split': 6, 'min_samples_leaf': 5}. Best is trial 22 with value: 0.7217021276595744.\n",
      "[I 2025-06-27 21:16:07,414] Trial 27 finished with value: 0.711063829787234 and parameters: {'n_estimators': 248, 'max_depth': 20, 'min_samples_split': 9, 'min_samples_leaf': 4}. Best is trial 22 with value: 0.7217021276595744.\n",
      "[I 2025-06-27 21:16:21,771] Trial 28 finished with value: 0.7036170212765958 and parameters: {'n_estimators': 167, 'max_depth': 17, 'min_samples_split': 11, 'min_samples_leaf': 1}. Best is trial 22 with value: 0.7217021276595744.\n",
      "[I 2025-06-27 21:16:34,415] Trial 29 finished with value: 0.6743617021276596 and parameters: {'n_estimators': 215, 'max_depth': 11, 'min_samples_split': 8, 'min_samples_leaf': 4}. Best is trial 22 with value: 0.7217021276595744.\n",
      "2025/06/27 21:17:33 WARNING mlflow.models.model: `artifact_path` is deprecated. Please use `name` instead.\n",
      "2025/06/27 21:17:57 WARNING mlflow.models.model: Model logged without a signature and input example. Please set `input_example` parameter when logging the model to auto infer the model signature.\n"
     ]
    },
    {
     "name": "stdout",
     "output_type": "stream",
     "text": [
      "🏃 View run RandomForest_SMOTE_TFIDF_Trigrams at: http://ec2-18-233-10-235.compute-1.amazonaws.com:5000/#/experiments/500246362129033379/runs/6300ab41b9f5449fa64efcb7b18602e3\n",
      "🧪 View experiment at: http://ec2-18-233-10-235.compute-1.amazonaws.com:5000/#/experiments/500246362129033379\n"
     ]
    },
    {
     "ename": "",
     "evalue": "",
     "output_type": "error",
     "traceback": [
      "\u001b[1;31mThe Kernel crashed while executing code in the current cell or a previous cell. \n",
      "\u001b[1;31mPlease review the code in the cell(s) to identify a possible cause of the failure. \n",
      "\u001b[1;31mClick <a href='https://aka.ms/vscodeJupyterKernelCrash'>here</a> for more info. \n",
      "\u001b[1;31mView Jupyter <a href='command:jupyter.viewOutput'>log</a> for further details."
     ]
    }
   ],
   "source": [
    "# Step 1: (Optional) Remapping - skipped since not strictly needed for Random Forest\n",
    "\n",
    "# Step 2: Remove rows where the target labels (category) are NaN\n",
    "df = df.dropna(subset=['category'])\n",
    "\n",
    "# Step 3: TF-IDF vectorizer setup\n",
    "ngram_range = (1, 3)  # Trigram\n",
    "max_features = 2000  # Set max_features to 1000\n",
    "vectorizer = TfidfVectorizer(ngram_range=ngram_range, max_features=max_features)\n",
    "X = vectorizer.fit_transform(df['clean_comment'])\n",
    "y = df['category']\n",
    "\n",
    "# Step 4: Apply SMOTE to handle class imbalance\n",
    "smote = SMOTE(random_state=42)\n",
    "X_resampled, y_resampled = smote.fit_resample(X, y)\n",
    "\n",
    "# Step 5: Train-test split\n",
    "X_train, X_test, y_train, y_test = train_test_split(X_resampled, y_resampled, test_size=0.2, random_state=42, stratify=y_resampled)\n",
    "\n",
    "# Function to log results in MLflow\n",
    "def log_mlflow(model_name, model, X_train, X_test, y_train, y_test):\n",
    "    with mlflow.start_run():\n",
    "        # Log model type\n",
    "        mlflow.set_tag(\"mlflow.runName\", f\"{model_name}_SMOTE_TFIDF_Trigrams\")\n",
    "        mlflow.set_tag(\"experiment_type\", \"algorithm_comparison\")\n",
    "\n",
    "        # Log algorithm name as a parameter\n",
    "        mlflow.log_param(\"algo_name\", model_name)\n",
    "\n",
    "        # Train model\n",
    "        model.fit(X_train, y_train)\n",
    "        y_pred = model.predict(X_test)\n",
    "\n",
    "        # Log accuracy\n",
    "        accuracy = accuracy_score(y_test, y_pred)\n",
    "        mlflow.log_metric(\"accuracy\", accuracy)\n",
    "\n",
    "        # Log classification report\n",
    "        classification_rep = classification_report(y_test, y_pred, output_dict=True)\n",
    "        for label, metrics in classification_rep.items():\n",
    "            if isinstance(metrics, dict):\n",
    "                for metric, value in metrics.items():\n",
    "                    mlflow.log_metric(f\"{label}_{metric}\", value)\n",
    "\n",
    "        # Log the model\n",
    "        mlflow.sklearn.log_model(model, f\"{model_name}_model\")\n",
    "\n",
    "\n",
    "# Step 6: Optuna objective function for Random Forest\n",
    "def objective_rf(trial):\n",
    "    n_estimators = trial.suggest_int('n_estimators', 50, 300)  # Number of trees in the forest\n",
    "    max_depth = trial.suggest_int('max_depth', 3, 20)  # Maximum depth of the tree\n",
    "    min_samples_split = trial.suggest_int('min_samples_split', 2, 20)  # Minimum samples required to split a node\n",
    "    min_samples_leaf = trial.suggest_int('min_samples_leaf', 1, 20)  # Minimum samples required at a leaf node\n",
    "\n",
    "    # RandomForestClassifier setup\n",
    "    model = RandomForestClassifier(n_estimators=n_estimators, max_depth=max_depth,\n",
    "                                   min_samples_split=min_samples_split, min_samples_leaf=min_samples_leaf,\n",
    "                                   random_state=42)\n",
    "    return accuracy_score(y_test, model.fit(X_train, y_train).predict(X_test))\n",
    "\n",
    "\n",
    "# Step 7: Run Optuna for Random Forest, log the best model only\n",
    "def run_optuna_experiment():\n",
    "    study = optuna.create_study(direction=\"maximize\")\n",
    "    study.optimize(objective_rf, n_trials=30)\n",
    "\n",
    "    # Get the best parameters and log only the best model\n",
    "    best_params = study.best_params\n",
    "    best_model = RandomForestClassifier(n_estimators=best_params['n_estimators'],\n",
    "                                        max_depth=best_params['max_depth'],\n",
    "                                        min_samples_split=best_params['min_samples_split'],\n",
    "                                        min_samples_leaf=best_params['min_samples_leaf'],\n",
    "                                        random_state=42)\n",
    "\n",
    "    # Log the best model with MLflow, passing the algo_name as \"RandomForest\"\n",
    "    log_mlflow(\"RandomForest\", best_model, X_train, X_test, y_train, y_test)\n",
    "\n",
    "# Run the experiment for Random Forest\n",
    "run_optuna_experiment()\n"
   ]
  },
  {
   "cell_type": "code",
   "execution_count": null,
   "id": "046f5956",
   "metadata": {},
   "outputs": [],
   "source": []
  }
 ],
 "metadata": {
  "kernelspec": {
   "display_name": "myenv",
   "language": "python",
   "name": "python3"
  },
  "language_info": {
   "codemirror_mode": {
    "name": "ipython",
    "version": 3
   },
   "file_extension": ".py",
   "mimetype": "text/x-python",
   "name": "python",
   "nbconvert_exporter": "python",
   "pygments_lexer": "ipython3",
   "version": "3.11.3"
  }
 },
 "nbformat": 4,
 "nbformat_minor": 5
}
