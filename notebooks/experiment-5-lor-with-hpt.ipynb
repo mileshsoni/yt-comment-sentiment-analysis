{
 "cells": [
  {
   "cell_type": "code",
   "execution_count": 6,
   "id": "cdb89df8",
   "metadata": {},
   "outputs": [],
   "source": [
    "import mlflow\n",
    "mlflow.set_tracking_uri(\"http://ec2-18-233-10-235.compute-1.amazonaws.com:5000/\")"
   ]
  },
  {
   "cell_type": "code",
   "execution_count": 7,
   "id": "c7d72ab7",
   "metadata": {},
   "outputs": [
    {
     "data": {
      "text/plain": [
       "<Experiment: artifact_location='s3://ms-mlflow-bucket/500246362129033379', creation_time=1751027568684, experiment_id='500246362129033379', last_update_time=1751027568684, lifecycle_stage='active', name='ML Algos with HP Tuning', tags={}>"
      ]
     },
     "execution_count": 7,
     "metadata": {},
     "output_type": "execute_result"
    }
   ],
   "source": [
    "# Set or create an experiment\n",
    "mlflow.set_experiment(\"ML Algos with HP Tuning\")"
   ]
  },
  {
   "cell_type": "code",
   "execution_count": 8,
   "id": "86c74cde",
   "metadata": {},
   "outputs": [],
   "source": [
    "import pandas as pd\n",
    "from sklearn.feature_extraction.text import TfidfVectorizer\n",
    "from sklearn.model_selection import train_test_split\n",
    "from sklearn.linear_model import LogisticRegression\n",
    "from sklearn.metrics import accuracy_score, classification_report\n",
    "from imblearn.over_sampling import SMOTE\n",
    "import mlflow\n",
    "import mlflow.sklearn\n",
    "import optuna\n"
   ]
  },
  {
   "cell_type": "code",
   "execution_count": 9,
   "id": "a2a3a30f",
   "metadata": {},
   "outputs": [
    {
     "data": {
      "text/plain": [
       "(36243, 2)"
      ]
     },
     "execution_count": 9,
     "metadata": {},
     "output_type": "execute_result"
    }
   ],
   "source": [
    "df = pd.read_csv('data_preprocessed.csv').dropna().drop_duplicates()\n",
    "df.shape"
   ]
  },
  {
   "cell_type": "code",
   "execution_count": 10,
   "id": "85694f8c",
   "metadata": {},
   "outputs": [
    {
     "name": "stderr",
     "output_type": "stream",
     "text": [
      "[I 2025-06-27 21:08:56,448] A new study created in memory with name: no-name-689e96a6-bea2-4a2a-9f92-b5b741db81e9\n",
      "[I 2025-06-27 21:08:56,674] Trial 0 finished with value: 0.3332978723404255 and parameters: {'C': 0.00017455617520779307, 'penalty': 'l1'}. Best is trial 0 with value: 0.3332978723404255.\n",
      "[I 2025-06-27 21:08:57,022] Trial 1 finished with value: 0.6385106382978724 and parameters: {'C': 0.0003054025245237227, 'penalty': 'l2'}. Best is trial 1 with value: 0.6385106382978724.\n",
      "[I 2025-06-27 21:08:57,553] Trial 2 finished with value: 0.6437234042553192 and parameters: {'C': 0.002073019877187721, 'penalty': 'l2'}. Best is trial 2 with value: 0.6437234042553192.\n",
      "[I 2025-06-27 21:08:57,947] Trial 3 finished with value: 0.6420212765957447 and parameters: {'C': 0.0013926633467337794, 'penalty': 'l2'}. Best is trial 2 with value: 0.6437234042553192.\n",
      "[I 2025-06-27 21:09:00,391] Trial 4 finished with value: 0.8057446808510639 and parameters: {'C': 3.1669826616417143, 'penalty': 'l2'}. Best is trial 4 with value: 0.8057446808510639.\n",
      "[I 2025-06-27 21:09:01,061] Trial 5 finished with value: 0.7503191489361702 and parameters: {'C': 0.13145148601172005, 'penalty': 'l1'}. Best is trial 4 with value: 0.8057446808510639.\n",
      "[I 2025-06-27 21:09:01,824] Trial 6 finished with value: 0.6451063829787234 and parameters: {'C': 0.0026900618066160054, 'penalty': 'l2'}. Best is trial 4 with value: 0.8057446808510639.\n",
      "[I 2025-06-27 21:09:02,802] Trial 7 finished with value: 0.6964893617021276 and parameters: {'C': 0.07028239595183465, 'penalty': 'l1'}. Best is trial 4 with value: 0.8057446808510639.\n",
      "[I 2025-06-27 21:09:03,341] Trial 8 finished with value: 0.6407446808510638 and parameters: {'C': 0.0006773282652560412, 'penalty': 'l2'}. Best is trial 4 with value: 0.8057446808510639.\n",
      "[I 2025-06-27 21:09:03,951] Trial 9 finished with value: 0.6836170212765957 and parameters: {'C': 0.062043757898932024, 'penalty': 'l1'}. Best is trial 4 with value: 0.8057446808510639.\n",
      "[I 2025-06-27 21:09:07,702] Trial 10 finished with value: 0.8124468085106383 and parameters: {'C': 8.298438694465599, 'penalty': 'l2'}. Best is trial 10 with value: 0.8124468085106383.\n",
      "[I 2025-06-27 21:09:11,561] Trial 11 finished with value: 0.814468085106383 and parameters: {'C': 9.507305176125602, 'penalty': 'l2'}. Best is trial 11 with value: 0.814468085106383.\n",
      "[I 2025-06-27 21:09:15,082] Trial 12 finished with value: 0.8131914893617022 and parameters: {'C': 8.589492850680351, 'penalty': 'l2'}. Best is trial 11 with value: 0.814468085106383.\n",
      "[I 2025-06-27 21:09:17,138] Trial 13 finished with value: 0.7892553191489362 and parameters: {'C': 0.7467344440455103, 'penalty': 'l2'}. Best is trial 11 with value: 0.814468085106383.\n",
      "[I 2025-06-27 21:09:19,239] Trial 14 finished with value: 0.7941489361702128 and parameters: {'C': 1.0107006139156909, 'penalty': 'l2'}. Best is trial 11 with value: 0.814468085106383.\n",
      "[I 2025-06-27 21:09:21,043] Trial 15 finished with value: 0.7825531914893618 and parameters: {'C': 0.5493632628163347, 'penalty': 'l2'}. Best is trial 11 with value: 0.814468085106383.\n",
      "[I 2025-06-27 21:09:24,519] Trial 16 finished with value: 0.8136170212765957 and parameters: {'C': 8.92176723100755, 'penalty': 'l2'}. Best is trial 11 with value: 0.814468085106383.\n",
      "[I 2025-06-27 21:09:25,330] Trial 17 finished with value: 0.66 and parameters: {'C': 0.008699019709039349, 'penalty': 'l2'}. Best is trial 11 with value: 0.814468085106383.\n",
      "[I 2025-06-27 21:09:26,668] Trial 18 finished with value: 0.8259574468085107 and parameters: {'C': 2.209406929184082, 'penalty': 'l1'}. Best is trial 18 with value: 0.8259574468085107.\n",
      "[I 2025-06-27 21:09:27,897] Trial 19 finished with value: 0.8258510638297872 and parameters: {'C': 2.210838963425519, 'penalty': 'l1'}. Best is trial 18 with value: 0.8259574468085107.\n",
      "[I 2025-06-27 21:09:28,610] Trial 20 finished with value: 0.7896808510638298 and parameters: {'C': 0.2550805463765441, 'penalty': 'l1'}. Best is trial 18 with value: 0.8259574468085107.\n",
      "[I 2025-06-27 21:09:29,687] Trial 21 finished with value: 0.8256382978723404 and parameters: {'C': 1.8718689447101489, 'penalty': 'l1'}. Best is trial 18 with value: 0.8259574468085107.\n",
      "[I 2025-06-27 21:09:30,877] Trial 22 finished with value: 0.8258510638297872 and parameters: {'C': 1.954175134117645, 'penalty': 'l1'}. Best is trial 18 with value: 0.8259574468085107.\n",
      "[I 2025-06-27 21:09:31,152] Trial 23 finished with value: 0.5129787234042553 and parameters: {'C': 0.012991623933707688, 'penalty': 'l1'}. Best is trial 18 with value: 0.8259574468085107.\n",
      "[I 2025-06-27 21:09:32,301] Trial 24 finished with value: 0.8259574468085107 and parameters: {'C': 2.6567814589977843, 'penalty': 'l1'}. Best is trial 18 with value: 0.8259574468085107.\n",
      "[I 2025-06-27 21:09:32,981] Trial 25 finished with value: 0.8014893617021277 and parameters: {'C': 0.3425037194553277, 'penalty': 'l1'}. Best is trial 18 with value: 0.8259574468085107.\n",
      "[I 2025-06-27 21:09:34,206] Trial 26 finished with value: 0.826063829787234 and parameters: {'C': 2.7863565848591403, 'penalty': 'l1'}. Best is trial 26 with value: 0.826063829787234.\n",
      "[I 2025-06-27 21:09:35,650] Trial 27 finished with value: 0.8261702127659575 and parameters: {'C': 3.6040587720490658, 'penalty': 'l1'}. Best is trial 27 with value: 0.8261702127659575.\n",
      "[I 2025-06-27 21:09:36,800] Trial 28 finished with value: 0.826063829787234 and parameters: {'C': 4.3930234145429, 'penalty': 'l1'}. Best is trial 27 with value: 0.8261702127659575.\n",
      "[I 2025-06-27 21:09:37,502] Trial 29 finished with value: 0.7875531914893616 and parameters: {'C': 0.24427737470155234, 'penalty': 'l1'}. Best is trial 27 with value: 0.8261702127659575.\n",
      "2025/06/27 21:10:09 WARNING mlflow.models.model: `artifact_path` is deprecated. Please use `name` instead.\n",
      "2025/06/27 21:10:32 WARNING mlflow.models.model: Model logged without a signature and input example. Please set `input_example` parameter when logging the model to auto infer the model signature.\n"
     ]
    },
    {
     "name": "stdout",
     "output_type": "stream",
     "text": [
      "🏃 View run LogisticRegression_SMOTE_TFIDF_Trigrams at: http://ec2-18-233-10-235.compute-1.amazonaws.com:5000/#/experiments/500246362129033379/runs/7985d14c180f4f66b2be1feddb6b8c21\n",
      "🧪 View experiment at: http://ec2-18-233-10-235.compute-1.amazonaws.com:5000/#/experiments/500246362129033379\n"
     ]
    }
   ],
   "source": [
    "# Step 1: (Optional) Remapping - skipped since not strictly needed for Logistic Regression\n",
    "\n",
    "# Step 2: Remove rows where the target labels (category) are NaN\n",
    "df = df.dropna(subset=['category'])\n",
    "\n",
    "# Step 3: TF-IDF vectorizer setup\n",
    "ngram_range = (1, 3)  # Trigram\n",
    "max_features = 2000  # Set max_features to 1000\n",
    "vectorizer = TfidfVectorizer(ngram_range=ngram_range, max_features=max_features)\n",
    "X = vectorizer.fit_transform(df['clean_comment'])\n",
    "y = df['category']\n",
    "\n",
    "# Step 4: Apply SMOTE to handle class imbalance\n",
    "smote = SMOTE(random_state=42)\n",
    "X_resampled, y_resampled = smote.fit_resample(X, y)\n",
    "\n",
    "# Step 5: Train-test split\n",
    "X_train, X_test, y_train, y_test = train_test_split(X_resampled, y_resampled, test_size=0.2, random_state=42, stratify=y_resampled)\n",
    "\n",
    "# Function to log results in MLflow\n",
    "def log_mlflow(model_name, model, X_train, X_test, y_train, y_test):\n",
    "    with mlflow.start_run():\n",
    "        # Log model type\n",
    "        mlflow.set_tag(\"mlflow.runName\", f\"{model_name}_SMOTE_TFIDF_Trigrams\")\n",
    "        mlflow.set_tag(\"experiment_type\", \"algorithm_comparison\")\n",
    "\n",
    "        # Log algorithm name as a parameter\n",
    "        mlflow.log_param(\"algo_name\", model_name)\n",
    "\n",
    "        # Train model\n",
    "        model.fit(X_train, y_train)\n",
    "        y_pred = model.predict(X_test)\n",
    "\n",
    "        # Log accuracy\n",
    "        accuracy = accuracy_score(y_test, y_pred)\n",
    "        mlflow.log_metric(\"accuracy\", accuracy)\n",
    "\n",
    "        # Log classification report\n",
    "        classification_rep = classification_report(y_test, y_pred, output_dict=True)\n",
    "        for label, metrics in classification_rep.items():\n",
    "            if isinstance(metrics, dict):\n",
    "                for metric, value in metrics.items():\n",
    "                    mlflow.log_metric(f\"{label}_{metric}\", value)\n",
    "\n",
    "        # Log the model\n",
    "        mlflow.sklearn.log_model(model, f\"{model_name}_model\")\n",
    "\n",
    "\n",
    "# Step 6: Optuna objective function for Logistic Regression\n",
    "def objective_logreg(trial):\n",
    "    C = trial.suggest_float('C', 1e-4, 10.0, log=True)\n",
    "    penalty = trial.suggest_categorical('penalty', ['l1', 'l2'])\n",
    "\n",
    "    # LogisticRegression model setup with balanced class weight\n",
    "    model = LogisticRegression(C=C, penalty=penalty, solver='liblinear', random_state=42)\n",
    "    return accuracy_score(y_test, model.fit(X_train, y_train).predict(X_test))\n",
    "\n",
    "\n",
    "# Step 7: Run Optuna for Logistic Regression, log the best model only\n",
    "def run_optuna_experiment():\n",
    "    study = optuna.create_study(direction=\"maximize\")\n",
    "    study.optimize(objective_logreg, n_trials=30)\n",
    "\n",
    "    # Get the best parameters and log only the best model\n",
    "    best_params = study.best_params\n",
    "    best_model = LogisticRegression(C=best_params['C'], penalty=best_params['penalty'], solver='liblinear', random_state=42)\n",
    "\n",
    "    # Log the best model with MLflow, passing the algo_name as \"LogisticRegression\"\n",
    "    log_mlflow(\"LogisticRegression\", best_model, X_train, X_test, y_train, y_test)\n",
    "\n",
    "# Run the experiment for Logistic Regression\n",
    "run_optuna_experiment()\n"
   ]
  },
  {
   "cell_type": "code",
   "execution_count": null,
   "id": "31c6c64f",
   "metadata": {},
   "outputs": [],
   "source": []
  }
 ],
 "metadata": {
  "kernelspec": {
   "display_name": "myenv",
   "language": "python",
   "name": "python3"
  },
  "language_info": {
   "codemirror_mode": {
    "name": "ipython",
    "version": 3
   },
   "file_extension": ".py",
   "mimetype": "text/x-python",
   "name": "python",
   "nbconvert_exporter": "python",
   "pygments_lexer": "ipython3",
   "version": "3.11.3"
  }
 },
 "nbformat": 4,
 "nbformat_minor": 5
}
