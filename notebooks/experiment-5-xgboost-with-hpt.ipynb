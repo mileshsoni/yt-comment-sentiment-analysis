{
 "cells": [
  {
   "cell_type": "code",
   "execution_count": 6,
   "id": "b9949cd4",
   "metadata": {},
   "outputs": [],
   "source": [
    "import mlflow\n",
    "mlflow.set_tracking_uri(\"http://ec2-18-233-10-235.compute-1.amazonaws.com:5000/\")"
   ]
  },
  {
   "cell_type": "code",
   "execution_count": 7,
   "id": "9c05f628",
   "metadata": {},
   "outputs": [
    {
     "data": {
      "text/plain": [
       "<Experiment: artifact_location='s3://ms-mlflow-bucket/500246362129033379', creation_time=1751027568684, experiment_id='500246362129033379', last_update_time=1751027568684, lifecycle_stage='active', name='ML Algos with HP Tuning', tags={}>"
      ]
     },
     "execution_count": 7,
     "metadata": {},
     "output_type": "execute_result"
    }
   ],
   "source": [
    "# Set or create an experiment\n",
    "mlflow.set_experiment(\"ML Algos with HP Tuning\")"
   ]
  },
  {
   "cell_type": "code",
   "execution_count": 8,
   "id": "13b654f7",
   "metadata": {},
   "outputs": [],
   "source": [
    "import optuna\n",
    "import mlflow\n",
    "import mlflow.sklearn\n",
    "from sklearn.model_selection import train_test_split\n",
    "from sklearn.metrics import accuracy_score, classification_report\n",
    "from sklearn.feature_extraction.text import TfidfVectorizer\n",
    "from sklearn.linear_model import LogisticRegression\n",
    "from sklearn.svm import SVC\n",
    "from xgboost import XGBClassifier\n",
    "from lightgbm import LGBMClassifier\n",
    "from sklearn.neighbors import KNeighborsClassifier\n",
    "from sklearn.naive_bayes import MultinomialNB\n",
    "from sklearn.ensemble import RandomForestClassifier\n",
    "from imblearn.over_sampling import SMOTE\n",
    "import matplotlib.pyplot as plt\n",
    "import seaborn as sns\n",
    "import pandas as pd"
   ]
  },
  {
   "cell_type": "code",
   "execution_count": 9,
   "id": "ba33a35f",
   "metadata": {},
   "outputs": [
    {
     "data": {
      "text/plain": [
       "(36243, 2)"
      ]
     },
     "execution_count": 9,
     "metadata": {},
     "output_type": "execute_result"
    }
   ],
   "source": [
    "df = pd.read_csv('data_preprocessed.csv').dropna().drop_duplicates()\n",
    "df.shape"
   ]
  },
  {
   "cell_type": "code",
   "execution_count": 10,
   "id": "606cda8d",
   "metadata": {},
   "outputs": [
    {
     "name": "stderr",
     "output_type": "stream",
     "text": [
      "[I 2025-06-27 21:14:10,913] A new study created in memory with name: no-name-3acf44c7-56a4-48c6-a1b2-5a7b455843d1\n",
      "[I 2025-06-27 21:16:08,279] Trial 0 finished with value: 0.5840805628362533 and parameters: {'n_estimators': 133, 'learning_rate': 0.002819374741569555, 'max_depth': 7}. Best is trial 0 with value: 0.5840805628362533.\n",
      "[I 2025-06-27 21:16:55,168] Trial 1 finished with value: 0.6158090771140847 and parameters: {'n_estimators': 95, 'learning_rate': 0.015220539413203543, 'max_depth': 5}. Best is trial 1 with value: 0.6158090771140847.\n",
      "[I 2025-06-27 21:18:17,513] Trial 2 finished with value: 0.611946475375914 and parameters: {'n_estimators': 91, 'learning_rate': 0.007403612498764836, 'max_depth': 7}. Best is trial 1 with value: 0.6158090771140847.\n",
      "[I 2025-06-27 21:19:58,534] Trial 3 finished with value: 0.7806594012967306 and parameters: {'n_estimators': 214, 'learning_rate': 0.07674193031562296, 'max_depth': 6}. Best is trial 3 with value: 0.7806594012967306.\n",
      "[I 2025-06-27 21:23:09,611] Trial 4 finished with value: 0.8143192164436474 and parameters: {'n_estimators': 213, 'learning_rate': 0.09818626344043965, 'max_depth': 10}. Best is trial 4 with value: 0.8143192164436474.\n",
      "[I 2025-06-27 21:24:33,195] Trial 5 finished with value: 0.5809077114084701 and parameters: {'n_estimators': 84, 'learning_rate': 0.001813275552347209, 'max_depth': 8}. Best is trial 4 with value: 0.8143192164436474.\n",
      "[I 2025-06-27 21:29:56,986] Trial 6 finished with value: 0.6371913367361015 and parameters: {'n_estimators': 236, 'learning_rate': 0.0031576994574153586, 'max_depth': 10}. Best is trial 4 with value: 0.8143192164436474.\n",
      "[I 2025-06-27 21:30:28,151] Trial 7 finished with value: 0.7265829769623396 and parameters: {'n_estimators': 149, 'learning_rate': 0.07512895891808694, 'max_depth': 4}. Best is trial 4 with value: 0.8143192164436474.\n",
      "[I 2025-06-27 21:31:12,918] Trial 8 finished with value: 0.5649055042074769 and parameters: {'n_estimators': 88, 'learning_rate': 0.0029034520718765468, 'max_depth': 6}. Best is trial 4 with value: 0.8143192164436474.\n",
      "[I 2025-06-27 21:31:39,702] Trial 9 finished with value: 0.6078079735135881 and parameters: {'n_estimators': 76, 'learning_rate': 0.015417383900020782, 'max_depth': 5}. Best is trial 4 with value: 0.8143192164436474.\n",
      "[I 2025-06-27 21:38:11,735] Trial 10 finished with value: 0.6024279210925645 and parameters: {'n_estimators': 299, 'learning_rate': 0.00015004525342600416, 'max_depth': 10}. Best is trial 4 with value: 0.8143192164436474.\n",
      "[I 2025-06-27 21:38:39,424] Trial 11 finished with value: 0.7412056835425576 and parameters: {'n_estimators': 210, 'learning_rate': 0.09218330582083038, 'max_depth': 3}. Best is trial 4 with value: 0.8143192164436474.\n",
      "[I 2025-06-27 21:41:47,613] Trial 12 finished with value: 0.7609325424196441 and parameters: {'n_estimators': 225, 'learning_rate': 0.03668256657847477, 'max_depth': 9}. Best is trial 4 with value: 0.8143192164436474.\n",
      "[I 2025-06-27 21:45:36,866] Trial 13 finished with value: 0.5775969099186095 and parameters: {'n_estimators': 266, 'learning_rate': 0.00031165864559838115, 'max_depth': 8}. Best is trial 4 with value: 0.8143192164436474.\n",
      "[I 2025-06-27 21:46:57,763] Trial 14 finished with value: 0.7118223203200441 and parameters: {'n_estimators': 183, 'learning_rate': 0.031668148545786534, 'max_depth': 6}. Best is trial 4 with value: 0.8143192164436474.\n",
      "[I 2025-06-27 21:49:44,373] Trial 15 finished with value: 0.5810456614705477 and parameters: {'n_estimators': 187, 'learning_rate': 0.0008841148914691609, 'max_depth': 8}. Best is trial 4 with value: 0.8143192164436474.\n",
      "[I 2025-06-27 21:51:04,101] Trial 16 finished with value: 0.7316871292592082 and parameters: {'n_estimators': 264, 'learning_rate': 0.036859467689501886, 'max_depth': 5}. Best is trial 4 with value: 0.8143192164436474.\n",
      "[I 2025-06-27 21:53:46,276] Trial 17 finished with value: 0.6638156987170645 and parameters: {'n_estimators': 150, 'learning_rate': 0.011103042822523381, 'max_depth': 9}. Best is trial 4 with value: 0.8143192164436474.\n",
      "[I 2025-06-27 21:54:13,530] Trial 18 finished with value: 0.7420333839150227 and parameters: {'n_estimators': 203, 'learning_rate': 0.0962074656784659, 'max_depth': 3}. Best is trial 4 with value: 0.8143192164436474.\n",
      "[I 2025-06-27 21:58:38,400] Trial 19 finished with value: 0.6634018485308318 and parameters: {'n_estimators': 248, 'learning_rate': 0.0065325972610642625, 'max_depth': 9}. Best is trial 4 with value: 0.8143192164436474.\n",
      "[I 2025-06-27 22:01:04,400] Trial 20 finished with value: 0.7805214512346531 and parameters: {'n_estimators': 299, 'learning_rate': 0.047313779590141276, 'max_depth': 7}. Best is trial 4 with value: 0.8143192164436474.\n",
      "[I 2025-06-27 22:02:55,911] Trial 21 finished with value: 0.7758311491240171 and parameters: {'n_estimators': 297, 'learning_rate': 0.05154888212678723, 'max_depth': 6}. Best is trial 4 with value: 0.8143192164436474.\n",
      "[I 2025-06-27 22:05:28,999] Trial 22 finished with value: 0.7296178783280453 and parameters: {'n_estimators': 266, 'learning_rate': 0.02601447198769415, 'max_depth': 7}. Best is trial 4 with value: 0.8143192164436474.\n",
      "[I 2025-06-27 22:06:12,338] Trial 23 finished with value: 0.7377569319906194 and parameters: {'n_estimators': 213, 'learning_rate': 0.0619303993569042, 'max_depth': 4}. Best is trial 4 with value: 0.8143192164436474.\n",
      "[I 2025-06-27 22:09:35,017] Trial 24 finished with value: 0.7167885225548352 and parameters: {'n_estimators': 170, 'learning_rate': 0.022106097243480168, 'max_depth': 10}. Best is trial 4 with value: 0.8143192164436474.\n",
      "[I 2025-06-27 22:11:01,503] Trial 25 finished with value: 0.7323768795695959 and parameters: {'n_estimators': 118, 'learning_rate': 0.051656505660282286, 'max_depth': 8}. Best is trial 4 with value: 0.8143192164436474.\n",
      "[I 2025-06-27 22:11:48,293] Trial 26 finished with value: 0.7769347496206374 and parameters: {'n_estimators': 245, 'learning_rate': 0.09690974842088473, 'max_depth': 4}. Best is trial 4 with value: 0.8143192164436474.\n",
      "[I 2025-06-27 22:12:23,847] Trial 27 finished with value: 0.5785625603531521 and parameters: {'n_estimators': 53, 'learning_rate': 0.005981249826681196, 'max_depth': 7}. Best is trial 4 with value: 0.8143192164436474.\n",
      "[I 2025-06-27 22:14:37,813] Trial 28 finished with value: 0.6983032142364464 and parameters: {'n_estimators': 282, 'learning_rate': 0.017102665739736816, 'max_depth': 6}. Best is trial 4 with value: 0.8143192164436474.\n",
      "[I 2025-06-27 22:16:23,560] Trial 29 finished with value: 0.7265829769623396 and parameters: {'n_estimators': 167, 'learning_rate': 0.03950790513052156, 'max_depth': 7}. Best is trial 4 with value: 0.8143192164436474.\n",
      "2025/06/27 22:19:56 WARNING mlflow.models.model: `artifact_path` is deprecated. Please use `name` instead.\n",
      "2025/06/27 22:20:16 WARNING mlflow.models.model: Model logged without a signature and input example. Please set `input_example` parameter when logging the model to auto infer the model signature.\n"
     ]
    },
    {
     "name": "stdout",
     "output_type": "stream",
     "text": [
      "🏃 View run XGBoost_SMOTE_TFIDF_Trigrams at: http://ec2-18-233-10-235.compute-1.amazonaws.com:5000/#/experiments/500246362129033379/runs/891af7e36d0a46468b1ec6b32e6c243f\n",
      "🧪 View experiment at: http://ec2-18-233-10-235.compute-1.amazonaws.com:5000/#/experiments/500246362129033379\n"
     ]
    }
   ],
   "source": [
    "# Step 1: Remap the class labels from [-1, 0, 1] to [2, 0, 1]\n",
    "df['category'] = df['category'].map({-1: 2, 0: 0, 1: 1})\n",
    "\n",
    "# Step 2: Remove rows where the target labels (category) are NaN\n",
    "df = df.dropna(subset=['category'])\n",
    "\n",
    "ngram_range = (1, 3)  # Trigram setting\n",
    "max_features = 2000  # Set max_features to 1000 for TF-IDF\n",
    "\n",
    "# Step 4: Train-test split before vectorization and resampling\n",
    "X_train, X_test, y_train, y_test = train_test_split(df['clean_comment'], df['category'], test_size=0.2, random_state=42, stratify=df['category'])\n",
    "\n",
    "# Step 2: Vectorization using TF-IDF, fit on training data only\n",
    "vectorizer = TfidfVectorizer(ngram_range=ngram_range, max_features=max_features)\n",
    "X_train_vec = vectorizer.fit_transform(X_train)  # Fit on training data\n",
    "X_test_vec = vectorizer.transform(X_test)  # Transform test data\n",
    "\n",
    "smote = SMOTE(random_state=42)\n",
    "X_train_vec, y_train = smote.fit_resample(X_train_vec, y_train)\n",
    "\n",
    "# Function to log results in MLflow\n",
    "def log_mlflow(model_name, model, X_train, X_test, y_train, y_test):\n",
    "    with mlflow.start_run():\n",
    "        # Log model type\n",
    "        mlflow.set_tag(\"mlflow.runName\", f\"{model_name}_SMOTE_TFIDF_Trigrams\")\n",
    "        mlflow.set_tag(\"experiment_type\", \"algorithm_comparison\")\n",
    "\n",
    "        # Log algorithm name as a parameter\n",
    "        mlflow.log_param(\"algo_name\", model_name)\n",
    "\n",
    "        # Train model\n",
    "        model.fit(X_train, y_train)\n",
    "        y_pred = model.predict(X_test)\n",
    "\n",
    "        # Log accuracy\n",
    "        accuracy = accuracy_score(y_test, y_pred)\n",
    "        mlflow.log_metric(\"accuracy\", accuracy)\n",
    "\n",
    "        # Log classification report\n",
    "        classification_rep = classification_report(y_test, y_pred, output_dict=True)\n",
    "        for label, metrics in classification_rep.items():\n",
    "            if isinstance(metrics, dict):\n",
    "                for metric, value in metrics.items():\n",
    "                    mlflow.log_metric(f\"{label}_{metric}\", value)\n",
    "\n",
    "        # Log the model\n",
    "        mlflow.sklearn.log_model(model, f\"{model_name}_model\")\n",
    "\n",
    "\n",
    "# Step 6: Optuna objective function for XGBoost\n",
    "def objective_xgboost(trial):\n",
    "    n_estimators = trial.suggest_int('n_estimators', 50, 300)\n",
    "    learning_rate = trial.suggest_float('learning_rate', 1e-4, 1e-1, log=True)\n",
    "    max_depth = trial.suggest_int('max_depth', 3, 10)\n",
    "\n",
    "    model = XGBClassifier(n_estimators=n_estimators, learning_rate=learning_rate, max_depth=max_depth, random_state=42)\n",
    "    return accuracy_score(y_test, model.fit(X_train_vec, y_train).predict(X_test_vec))\n",
    "\n",
    "\n",
    "# Step 7: Run Optuna for XGBoost, log the best model only\n",
    "def run_optuna_experiment():\n",
    "    study = optuna.create_study(direction=\"maximize\")\n",
    "    study.optimize(objective_xgboost, n_trials=30)\n",
    "\n",
    "    # Get the best parameters and log only the best model\n",
    "    best_params = study.best_params\n",
    "    best_model = XGBClassifier(n_estimators=best_params['n_estimators'], learning_rate=best_params['learning_rate'], max_depth=best_params['max_depth'], random_state=42)\n",
    "\n",
    "    # Log the best model with MLflow, passing the algo_name as \"xgboost\"\n",
    "    log_mlflow(\"XGBoost\", best_model, X_train_vec, X_test_vec, y_train, y_test)\n",
    "\n",
    "# Run the experiment for XGBoost\n",
    "run_optuna_experiment()\n"
   ]
  },
  {
   "cell_type": "code",
   "execution_count": null,
   "id": "249b3ac9",
   "metadata": {},
   "outputs": [],
   "source": []
  }
 ],
 "metadata": {
  "kernelspec": {
   "display_name": "myenv",
   "language": "python",
   "name": "python3"
  },
  "language_info": {
   "codemirror_mode": {
    "name": "ipython",
    "version": 3
   },
   "file_extension": ".py",
   "mimetype": "text/x-python",
   "name": "python",
   "nbconvert_exporter": "python",
   "pygments_lexer": "ipython3",
   "version": "3.11.3"
  }
 },
 "nbformat": 4,
 "nbformat_minor": 5
}
