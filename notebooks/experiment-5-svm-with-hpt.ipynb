{
 "cells": [
  {
   "cell_type": "code",
   "execution_count": 1,
   "id": "80d6e829",
   "metadata": {},
   "outputs": [],
   "source": [
    "import mlflow\n",
    "mlflow.set_tracking_uri(\"http://ec2-18-233-10-235.compute-1.amazonaws.com:5000/\")"
   ]
  },
  {
   "cell_type": "code",
   "execution_count": 2,
   "id": "0f29b772",
   "metadata": {},
   "outputs": [
    {
     "data": {
      "text/plain": [
       "<Experiment: artifact_location='s3://ms-mlflow-bucket/500246362129033379', creation_time=1751027568684, experiment_id='500246362129033379', last_update_time=1751027568684, lifecycle_stage='active', name='ML Algos with HP Tuning', tags={}>"
      ]
     },
     "execution_count": 2,
     "metadata": {},
     "output_type": "execute_result"
    }
   ],
   "source": [
    "mlflow.set_experiment(\"ML Algos with HP Tuning\")"
   ]
  },
  {
   "cell_type": "code",
   "execution_count": 3,
   "id": "ed4d8c5c",
   "metadata": {},
   "outputs": [
    {
     "name": "stderr",
     "output_type": "stream",
     "text": [
      "c:\\Users\\miles\\Desktop\\DSMP\\Projects\\yt-sentiment-analysis\\myenv\\Lib\\site-packages\\tqdm\\auto.py:21: TqdmWarning: IProgress not found. Please update jupyter and ipywidgets. See https://ipywidgets.readthedocs.io/en/stable/user_install.html\n",
      "  from .autonotebook import tqdm as notebook_tqdm\n"
     ]
    }
   ],
   "source": [
    "import pandas as pd\n",
    "from sklearn.feature_extraction.text import TfidfVectorizer\n",
    "from sklearn.model_selection import train_test_split\n",
    "from sklearn.metrics import accuracy_score, classification_report\n",
    "from sklearn.svm import SVC\n",
    "from imblearn.over_sampling import SMOTE\n",
    "import mlflow\n",
    "import mlflow.sklearn\n",
    "import optuna"
   ]
  },
  {
   "cell_type": "code",
   "execution_count": 4,
   "id": "41a5b9ea",
   "metadata": {},
   "outputs": [
    {
     "data": {
      "text/plain": [
       "(36243, 2)"
      ]
     },
     "execution_count": 4,
     "metadata": {},
     "output_type": "execute_result"
    }
   ],
   "source": [
    "df = pd.read_csv('data_preprocessed.csv').dropna().drop_duplicates()\n",
    "df.shape"
   ]
  },
  {
   "cell_type": "code",
   "execution_count": 5,
   "id": "93fa14c0",
   "metadata": {},
   "outputs": [
    {
     "name": "stderr",
     "output_type": "stream",
     "text": [
      "[I 2025-06-28 09:39:49,216] A new study created in memory with name: no-name-d95612a4-e7c7-41e5-a62c-bd14d448d761\n",
      "[I 2025-06-28 09:43:27,546] Trial 0 finished with value: 0.8018085106382978 and parameters: {'C': 0.6023971232271681, 'kernel': 'rbf'}. Best is trial 0 with value: 0.8018085106382978.\n",
      "[I 2025-06-28 09:47:31,428] Trial 1 finished with value: 0.4902127659574468 and parameters: {'C': 0.0013111238332765578, 'kernel': 'poly'}. Best is trial 0 with value: 0.8018085106382978.\n",
      "[I 2025-06-28 09:50:34,022] Trial 2 finished with value: 0.7795744680851063 and parameters: {'C': 0.28134408079523726, 'kernel': 'rbf'}. Best is trial 0 with value: 0.8018085106382978.\n",
      "[I 2025-06-28 09:53:58,774] Trial 3 finished with value: 0.771595744680851 and parameters: {'C': 3.167882331372847, 'kernel': 'linear'}. Best is trial 0 with value: 0.8018085106382978.\n",
      "[I 2025-06-28 09:58:07,589] Trial 4 finished with value: 0.4034042553191489 and parameters: {'C': 0.00011817245081640707, 'kernel': 'linear'}. Best is trial 0 with value: 0.8018085106382978.\n",
      "[I 2025-06-28 10:02:45,264] Trial 5 finished with value: 0.4396808510638298 and parameters: {'C': 0.028355579262558245, 'kernel': 'poly'}. Best is trial 0 with value: 0.8018085106382978.\n",
      "[I 2025-06-28 10:16:29,130] Trial 6 finished with value: 0.728404255319149 and parameters: {'C': 0.6675912033925426, 'kernel': 'poly'}. Best is trial 0 with value: 0.8018085106382978.\n",
      "[I 2025-06-28 10:20:40,163] Trial 7 finished with value: 0.7361702127659574 and parameters: {'C': 0.11660019047806214, 'kernel': 'rbf'}. Best is trial 0 with value: 0.8018085106382978.\n",
      "[I 2025-06-28 10:25:52,292] Trial 8 finished with value: 0.49744680851063827 and parameters: {'C': 0.0005115795322582938, 'kernel': 'rbf'}. Best is trial 0 with value: 0.8018085106382978.\n",
      "[I 2025-06-28 10:32:48,163] Trial 9 finished with value: 0.5131914893617021 and parameters: {'C': 0.06400890004643826, 'kernel': 'poly'}. Best is trial 0 with value: 0.8018085106382978.\n",
      "[I 2025-06-28 10:47:32,767] Trial 10 finished with value: 0.8294680851063829 and parameters: {'C': 9.329911060443902, 'kernel': 'rbf'}. Best is trial 10 with value: 0.8294680851063829.\n",
      "[I 2025-06-28 11:05:49,352] Trial 11 finished with value: 0.8294680851063829 and parameters: {'C': 9.35191415552587, 'kernel': 'rbf'}. Best is trial 10 with value: 0.8294680851063829.\n",
      "[I 2025-06-28 11:22:43,949] Trial 12 finished with value: 0.8317021276595745 and parameters: {'C': 5.562970037969135, 'kernel': 'rbf'}. Best is trial 12 with value: 0.8317021276595745.\n",
      "[I 2025-06-28 11:36:06,655] Trial 13 finished with value: 0.8301063829787234 and parameters: {'C': 8.37519397781734, 'kernel': 'rbf'}. Best is trial 12 with value: 0.8317021276595745.\n",
      "[I 2025-06-28 11:47:59,481] Trial 14 finished with value: 0.8273404255319149 and parameters: {'C': 1.8312745988952952, 'kernel': 'rbf'}. Best is trial 12 with value: 0.8317021276595745.\n",
      "[I 2025-06-28 11:53:44,672] Trial 15 finished with value: 0.42840425531914894 and parameters: {'C': 0.009785533564052687, 'kernel': 'rbf'}. Best is trial 12 with value: 0.8317021276595745.\n",
      "[I 2025-06-28 11:58:24,001] Trial 16 finished with value: 0.7678723404255319 and parameters: {'C': 2.058485890390886, 'kernel': 'linear'}. Best is trial 12 with value: 0.8317021276595745.\n",
      "[I 2025-06-28 12:11:45,370] Trial 17 finished with value: 0.8301063829787234 and parameters: {'C': 9.897935712699743, 'kernel': 'rbf'}. Best is trial 12 with value: 0.8317021276595745.\n",
      "[I 2025-06-28 12:20:39,303] Trial 18 finished with value: 0.8078723404255319 and parameters: {'C': 0.7244020045681729, 'kernel': 'rbf'}. Best is trial 12 with value: 0.8317021276595745.\n",
      "[I 2025-06-28 12:27:11,465] Trial 19 finished with value: 0.5701063829787234 and parameters: {'C': 0.0037298487102963803, 'kernel': 'linear'}. Best is trial 12 with value: 0.8317021276595745.\n",
      "[I 2025-06-28 12:33:17,331] Trial 20 finished with value: 0.7617021276595745 and parameters: {'C': 0.18407360214964302, 'kernel': 'rbf'}. Best is trial 12 with value: 0.8317021276595745.\n",
      "[I 2025-06-28 12:47:03,674] Trial 21 finished with value: 0.8313829787234043 and parameters: {'C': 4.301520986346252, 'kernel': 'rbf'}. Best is trial 12 with value: 0.8317021276595745.\n",
      "[I 2025-06-28 12:57:08,364] Trial 22 finished with value: 0.8308510638297872 and parameters: {'C': 3.183560632034463, 'kernel': 'rbf'}. Best is trial 12 with value: 0.8317021276595745.\n",
      "[I 2025-06-28 13:07:22,578] Trial 23 finished with value: 0.8324468085106383 and parameters: {'C': 2.6076001327862346, 'kernel': 'rbf'}. Best is trial 23 with value: 0.8324468085106383.\n",
      "[I 2025-06-28 13:17:27,532] Trial 24 finished with value: 0.8223404255319149 and parameters: {'C': 1.37612931720685, 'kernel': 'rbf'}. Best is trial 23 with value: 0.8324468085106383.\n",
      "[I 2025-06-28 13:28:19,579] Trial 25 finished with value: 0.8314893617021276 and parameters: {'C': 3.8148944026535343, 'kernel': 'rbf'}. Best is trial 23 with value: 0.8324468085106383.\n",
      "[I 2025-06-28 13:32:24,463] Trial 26 finished with value: 0.7934042553191489 and parameters: {'C': 0.4545739955284976, 'kernel': 'rbf'}. Best is trial 23 with value: 0.8324468085106383.\n",
      "[I 2025-06-28 13:37:50,241] Trial 27 finished with value: 0.8188297872340425 and parameters: {'C': 1.0973276705138244, 'kernel': 'rbf'}. Best is trial 23 with value: 0.8324468085106383.\n",
      "[I 2025-06-28 13:40:57,318] Trial 28 finished with value: 0.6732978723404255 and parameters: {'C': 0.026470209578754, 'kernel': 'linear'}. Best is trial 23 with value: 0.8324468085106383.\n",
      "[I 2025-06-28 13:50:59,852] Trial 29 finished with value: 0.7012765957446808 and parameters: {'C': 4.035543643558593, 'kernel': 'poly'}. Best is trial 23 with value: 0.8324468085106383.\n",
      "2025/06/28 13:58:27 WARNING mlflow.models.model: `artifact_path` is deprecated. Please use `name` instead.\n",
      "2025/06/28 13:58:55 WARNING mlflow.models.model: Model logged without a signature and input example. Please set `input_example` parameter when logging the model to auto infer the model signature.\n"
     ]
    },
    {
     "name": "stdout",
     "output_type": "stream",
     "text": [
      "🏃 View run SVM_SMOTE_TFIDF_Trigrams at: http://ec2-18-233-10-235.compute-1.amazonaws.com:5000/#/experiments/500246362129033379/runs/da89ed8d59fb42e9ab4ace3ee4e2699e\n",
      "🧪 View experiment at: http://ec2-18-233-10-235.compute-1.amazonaws.com:5000/#/experiments/500246362129033379\n"
     ]
    }
   ],
   "source": [
    "# Step 1: (Optional) Remapping - skipped since not strictly needed for SVM\n",
    "\n",
    "# Step 2: Remove rows where the target labels (category) are NaN\n",
    "df = df.dropna(subset=['category'])\n",
    "\n",
    "# Step 3: TF-IDF vectorizer setup\n",
    "ngram_range = (1, 3)  # Trigram\n",
    "max_features = 1000  # Set max_features to 1000\n",
    "vectorizer = TfidfVectorizer(ngram_range=ngram_range, max_features=max_features)\n",
    "X = vectorizer.fit_transform(df['clean_comment'])\n",
    "y = df['category']\n",
    "\n",
    "# Step 4: Apply SMOTE to handle class imbalance\n",
    "smote = SMOTE(random_state=42)\n",
    "X_resampled, y_resampled = smote.fit_resample(X, y)\n",
    "\n",
    "# Step 5: Train-test split\n",
    "X_train, X_test, y_train, y_test = train_test_split(X_resampled, y_resampled, test_size=0.2, random_state=42, stratify=y_resampled)\n",
    "\n",
    "# Function to log results in MLflow\n",
    "def log_mlflow(model_name, model, X_train, X_test, y_train, y_test):\n",
    "    with mlflow.start_run():\n",
    "        # Log model type\n",
    "        mlflow.set_tag(\"mlflow.runName\", f\"{model_name}_SMOTE_TFIDF_Trigrams\")\n",
    "        mlflow.set_tag(\"experiment_type\", \"algorithm_comparison\")\n",
    "\n",
    "        # Log algorithm name as a parameter\n",
    "        mlflow.log_param(\"algo_name\", model_name)\n",
    "\n",
    "        # Train model\n",
    "        model.fit(X_train, y_train)\n",
    "        y_pred = model.predict(X_test)\n",
    "\n",
    "        # Log accuracy\n",
    "        accuracy = accuracy_score(y_test, y_pred)\n",
    "        mlflow.log_metric(\"accuracy\", accuracy)\n",
    "\n",
    "        # Log classification report\n",
    "        classification_rep = classification_report(y_test, y_pred, output_dict=True)\n",
    "        for label, metrics in classification_rep.items():\n",
    "            if isinstance(metrics, dict):\n",
    "                for metric, value in metrics.items():\n",
    "                    mlflow.log_metric(f\"{label}_{metric}\", value)\n",
    "\n",
    "        # Log the model\n",
    "        mlflow.sklearn.log_model(model, f\"{model_name}_model\")\n",
    "\n",
    "\n",
    "# Step 6: Optuna objective function for SVM\n",
    "def objective_svm(trial):\n",
    "    C = trial.suggest_float('C', 1e-4, 10.0, log=True)\n",
    "    kernel = trial.suggest_categorical('kernel', ['linear', 'rbf', 'poly'])\n",
    "\n",
    "    model = SVC(C=C, kernel=kernel, random_state=42)\n",
    "    return accuracy_score(y_test, model.fit(X_train, y_train).predict(X_test))\n",
    "\n",
    "\n",
    "# Step 7: Run Optuna for SVM, log the best model only\n",
    "def run_optuna_experiment():\n",
    "    study = optuna.create_study(direction=\"maximize\")\n",
    "    study.optimize(objective_svm, n_trials=30)\n",
    "\n",
    "    # Get the best parameters and log only the best model\n",
    "    best_params = study.best_params\n",
    "    best_model = SVC(C=best_params['C'], kernel=best_params['kernel'], random_state=42)\n",
    "\n",
    "    # Log the best model with MLflow, passing the algo_name as \"SVM\"\n",
    "    log_mlflow(\"SVM\", best_model, X_train, X_test, y_train, y_test)\n",
    "\n",
    "# Run the experiment for SVM\n",
    "run_optuna_experiment()\n"
   ]
  }
 ],
 "metadata": {
  "kernelspec": {
   "display_name": "myenv",
   "language": "python",
   "name": "python3"
  },
  "language_info": {
   "codemirror_mode": {
    "name": "ipython",
    "version": 3
   },
   "file_extension": ".py",
   "mimetype": "text/x-python",
   "name": "python",
   "nbconvert_exporter": "python",
   "pygments_lexer": "ipython3",
   "version": "3.11.3"
  }
 },
 "nbformat": 4,
 "nbformat_minor": 5
}
