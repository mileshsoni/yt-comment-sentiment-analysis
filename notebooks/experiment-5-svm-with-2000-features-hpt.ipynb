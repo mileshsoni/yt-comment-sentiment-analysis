{
 "cells": [
  {
   "cell_type": "code",
   "execution_count": 1,
   "id": "8f86e480",
   "metadata": {},
   "outputs": [],
   "source": [
    "import mlflow\n",
    "mlflow.set_tracking_uri(\"http://ec2-18-233-10-235.compute-1.amazonaws.com:5000/\")"
   ]
  },
  {
   "cell_type": "code",
   "execution_count": 2,
   "id": "4adbdbcc",
   "metadata": {},
   "outputs": [
    {
     "data": {
      "text/plain": [
       "<Experiment: artifact_location='s3://ms-mlflow-bucket/580262608986777681', creation_time=1751096624948, experiment_id='580262608986777681', last_update_time=1751096624948, lifecycle_stage='active', name='ML Algos with HP Tuning', tags={}>"
      ]
     },
     "execution_count": 2,
     "metadata": {},
     "output_type": "execute_result"
    }
   ],
   "source": [
    "mlflow.set_experiment(\"ML Algos with HP Tuning\")"
   ]
  },
  {
   "cell_type": "code",
   "execution_count": 3,
   "id": "a4d91fa2",
   "metadata": {},
   "outputs": [
    {
     "name": "stderr",
     "output_type": "stream",
     "text": [
      "c:\\Users\\miles\\Desktop\\DSMP\\Projects\\yt-sentiment-analysis\\myenv\\Lib\\site-packages\\tqdm\\auto.py:21: TqdmWarning: IProgress not found. Please update jupyter and ipywidgets. See https://ipywidgets.readthedocs.io/en/stable/user_install.html\n",
      "  from .autonotebook import tqdm as notebook_tqdm\n"
     ]
    }
   ],
   "source": [
    "import pandas as pd\n",
    "from sklearn.feature_extraction.text import TfidfVectorizer\n",
    "from sklearn.model_selection import train_test_split\n",
    "from sklearn.metrics import accuracy_score, classification_report\n",
    "from sklearn.svm import SVC\n",
    "from imblearn.over_sampling import SMOTE\n",
    "import mlflow\n",
    "import mlflow.sklearn\n",
    "import optuna"
   ]
  },
  {
   "cell_type": "code",
   "execution_count": 4,
   "id": "9141a4e0",
   "metadata": {},
   "outputs": [
    {
     "data": {
      "text/plain": [
       "(36243, 2)"
      ]
     },
     "execution_count": 4,
     "metadata": {},
     "output_type": "execute_result"
    }
   ],
   "source": [
    "df = pd.read_csv('data_preprocessed.csv').dropna().drop_duplicates()\n",
    "df.shape"
   ]
  },
  {
   "cell_type": "code",
   "execution_count": 5,
   "id": "7fa7cd76",
   "metadata": {},
   "outputs": [
    {
     "name": "stderr",
     "output_type": "stream",
     "text": [
      "[I 2025-06-28 13:19:00,362] A new study created in memory with name: no-name-e3fe4faf-f376-40b3-bd6e-4df47d08e059\n",
      "[I 2025-06-28 13:24:42,267] Trial 0 finished with value: 0.414468085106383 and parameters: {'C': 0.002091930318208018, 'kernel': 'poly'}. Best is trial 0 with value: 0.414468085106383.\n",
      "[I 2025-06-28 13:29:32,102] Trial 1 finished with value: 0.7801063829787234 and parameters: {'C': 0.1837561888974706, 'kernel': 'rbf'}. Best is trial 1 with value: 0.7801063829787234.\n",
      "[I 2025-06-28 13:34:13,828] Trial 2 finished with value: 0.41510638297872343 and parameters: {'C': 0.0027716799718390515, 'kernel': 'rbf'}. Best is trial 1 with value: 0.7801063829787234.\n",
      "[I 2025-06-28 13:38:33,401] Trial 3 finished with value: 0.5659574468085107 and parameters: {'C': 0.006300118192423408, 'kernel': 'linear'}. Best is trial 1 with value: 0.7801063829787234.\n",
      "[I 2025-06-28 13:42:53,754] Trial 4 finished with value: 0.414468085106383 and parameters: {'C': 0.0004994319516645163, 'kernel': 'poly'}. Best is trial 1 with value: 0.7801063829787234.\n",
      "[I 2025-06-28 13:51:42,027] Trial 5 finished with value: 0.8532978723404255 and parameters: {'C': 1.4923801827702126, 'kernel': 'rbf'}. Best is trial 5 with value: 0.8532978723404255.\n",
      "[I 2025-06-28 13:55:07,966] Trial 6 finished with value: 0.7080851063829787 and parameters: {'C': 0.09248047290401082, 'kernel': 'rbf'}. Best is trial 5 with value: 0.8532978723404255.\n",
      "[I 2025-06-28 13:59:08,975] Trial 7 finished with value: 0.414468085106383 and parameters: {'C': 0.00015937975742107824, 'kernel': 'poly'}. Best is trial 5 with value: 0.8532978723404255.\n",
      "[I 2025-06-28 14:02:38,978] Trial 8 finished with value: 0.4146808510638298 and parameters: {'C': 0.0027077267380527467, 'kernel': 'rbf'}. Best is trial 5 with value: 0.8532978723404255.\n",
      "[I 2025-06-28 14:06:03,185] Trial 9 finished with value: 0.414468085106383 and parameters: {'C': 0.00018554664779373397, 'kernel': 'poly'}. Best is trial 5 with value: 0.8532978723404255.\n",
      "[I 2025-06-28 14:09:16,056] Trial 10 finished with value: 0.8171276595744681 and parameters: {'C': 6.006766353211091, 'kernel': 'linear'}. Best is trial 5 with value: 0.8532978723404255.\n",
      "[I 2025-06-28 14:13:03,078] Trial 11 finished with value: 0.8192553191489361 and parameters: {'C': 8.802663377144423, 'kernel': 'linear'}. Best is trial 5 with value: 0.8532978723404255.\n",
      "[I 2025-06-28 14:16:17,429] Trial 12 finished with value: 0.8172340425531915 and parameters: {'C': 5.676660611280661, 'kernel': 'linear'}. Best is trial 5 with value: 0.8532978723404255.\n",
      "[I 2025-06-28 14:18:31,269] Trial 13 finished with value: 0.801063829787234 and parameters: {'C': 0.8207322893675402, 'kernel': 'linear'}. Best is trial 5 with value: 0.8532978723404255.\n",
      "[I 2025-06-28 14:24:33,324] Trial 14 finished with value: 0.8485106382978723 and parameters: {'C': 1.1397160375763544, 'kernel': 'rbf'}. Best is trial 5 with value: 0.8532978723404255.\n",
      "[I 2025-06-28 14:30:30,492] Trial 15 finished with value: 0.8443617021276596 and parameters: {'C': 0.9615925346104043, 'kernel': 'rbf'}. Best is trial 5 with value: 0.8532978723404255.\n",
      "[I 2025-06-28 14:38:29,365] Trial 16 finished with value: 0.8465957446808511 and parameters: {'C': 1.0662275499207043, 'kernel': 'rbf'}. Best is trial 5 with value: 0.8532978723404255.\n",
      "[I 2025-06-28 14:43:37,796] Trial 17 finished with value: 0.5025531914893617 and parameters: {'C': 0.02915474496633432, 'kernel': 'rbf'}. Best is trial 5 with value: 0.8532978723404255.\n",
      "[I 2025-06-28 14:48:46,501] Trial 18 finished with value: 0.7992553191489362 and parameters: {'C': 0.27329052310172125, 'kernel': 'rbf'}. Best is trial 5 with value: 0.8532978723404255.\n",
      "[I 2025-06-28 14:53:43,000] Trial 19 finished with value: 0.5335106382978724 and parameters: {'C': 0.03604970435648945, 'kernel': 'rbf'}. Best is trial 5 with value: 0.8532978723404255.\n",
      "[I 2025-06-28 15:03:39,886] Trial 20 finished with value: 0.8572340425531915 and parameters: {'C': 1.997416673925562, 'kernel': 'rbf'}. Best is trial 20 with value: 0.8572340425531915.\n",
      "[I 2025-06-28 15:12:47,501] Trial 21 finished with value: 0.858404255319149 and parameters: {'C': 2.2494147752350067, 'kernel': 'rbf'}. Best is trial 21 with value: 0.858404255319149.\n",
      "[I 2025-06-28 15:21:06,848] Trial 22 finished with value: 0.857872340425532 and parameters: {'C': 2.0916913820223786, 'kernel': 'rbf'}. Best is trial 21 with value: 0.858404255319149.\n",
      "[I 2025-06-28 15:30:55,994] Trial 23 finished with value: 0.8587234042553191 and parameters: {'C': 2.7578109849650168, 'kernel': 'rbf'}. Best is trial 23 with value: 0.8587234042553191.\n",
      "[I 2025-06-28 15:40:01,944] Trial 24 finished with value: 0.8589361702127659 and parameters: {'C': 3.4131543428423092, 'kernel': 'rbf'}. Best is trial 24 with value: 0.8589361702127659.\n",
      "[I 2025-06-28 15:44:26,928] Trial 25 finished with value: 0.8029787234042554 and parameters: {'C': 0.30470340165660015, 'kernel': 'rbf'}. Best is trial 24 with value: 0.8589361702127659.\n",
      "[I 2025-06-28 15:53:30,351] Trial 26 finished with value: 0.8589361702127659 and parameters: {'C': 3.5462130608952385, 'kernel': 'rbf'}. Best is trial 24 with value: 0.8589361702127659.\n",
      "[I 2025-06-28 15:58:23,021] Trial 27 finished with value: 0.8202127659574469 and parameters: {'C': 0.4724737248154504, 'kernel': 'rbf'}. Best is trial 24 with value: 0.8589361702127659.\n",
      "[I 2025-06-28 16:11:48,455] Trial 28 finished with value: 0.6596808510638298 and parameters: {'C': 3.2897586398325136, 'kernel': 'poly'}. Best is trial 24 with value: 0.8589361702127659.\n",
      "[I 2025-06-28 16:15:05,200] Trial 29 finished with value: 0.7195744680851064 and parameters: {'C': 0.11184250517776627, 'kernel': 'rbf'}. Best is trial 24 with value: 0.8589361702127659.\n",
      "2025/06/28 16:22:56 WARNING mlflow.models.model: `artifact_path` is deprecated. Please use `name` instead.\n",
      "2025/06/28 16:23:23 WARNING mlflow.models.model: Model logged without a signature and input example. Please set `input_example` parameter when logging the model to auto infer the model signature.\n"
     ]
    },
    {
     "name": "stdout",
     "output_type": "stream",
     "text": [
      "🏃 View run SVM_2000_SMOTE_TFIDF_Trigrams at: http://ec2-18-233-10-235.compute-1.amazonaws.com:5000/#/experiments/580262608986777681/runs/1201ed89f0f8427c900ccc4d80ccdd12\n",
      "🧪 View experiment at: http://ec2-18-233-10-235.compute-1.amazonaws.com:5000/#/experiments/580262608986777681\n"
     ]
    }
   ],
   "source": [
    "# Step 1: (Optional) Remapping - skipped since not strictly needed for SVM\n",
    "\n",
    "# Step 2: Remove rows where the target labels (category) are NaN\n",
    "df = df.dropna(subset=['category'])\n",
    "\n",
    "# Step 3: TF-IDF vectorizer setup\n",
    "ngram_range = (1, 3)  # Trigram\n",
    "max_features = 2000  \n",
    "vectorizer = TfidfVectorizer(ngram_range=ngram_range, max_features=max_features)\n",
    "X = vectorizer.fit_transform(df['clean_comment'])\n",
    "y = df['category']\n",
    "\n",
    "# Step 4: Apply SMOTE to handle class imbalance\n",
    "smote = SMOTE(random_state=42)\n",
    "X_resampled, y_resampled = smote.fit_resample(X, y)\n",
    "\n",
    "# Step 5: Train-test split\n",
    "X_train, X_test, y_train, y_test = train_test_split(X_resampled, y_resampled, test_size=0.2, random_state=42, stratify=y_resampled)\n",
    "\n",
    "# Function to log results in MLflow\n",
    "def log_mlflow(model_name, model, X_train, X_test, y_train, y_test):\n",
    "    with mlflow.start_run():\n",
    "        # Log model type\n",
    "        mlflow.set_tag(\"mlflow.runName\", f\"{model_name}_2000_SMOTE_TFIDF_Trigrams\")\n",
    "        mlflow.set_tag(\"experiment_type\", \"algorithm_comparison\")\n",
    "\n",
    "        # Log algorithm name as a parameter\n",
    "        mlflow.log_param(\"algo_name\", model_name)\n",
    "\n",
    "        # Train model\n",
    "        model.fit(X_train, y_train)\n",
    "        y_pred = model.predict(X_test)\n",
    "\n",
    "        # Log accuracy\n",
    "        accuracy = accuracy_score(y_test, y_pred)\n",
    "        mlflow.log_metric(\"accuracy\", accuracy)\n",
    "\n",
    "        # Log classification report\n",
    "        classification_rep = classification_report(y_test, y_pred, output_dict=True)\n",
    "        for label, metrics in classification_rep.items():\n",
    "            if isinstance(metrics, dict):\n",
    "                for metric, value in metrics.items():\n",
    "                    mlflow.log_metric(f\"{label}_{metric}\", value)\n",
    "\n",
    "        # Log the model\n",
    "        mlflow.sklearn.log_model(model, f\"{model_name}_model\")\n",
    "\n",
    "\n",
    "# Step 6: Optuna objective function for SVM\n",
    "def objective_svm(trial):\n",
    "    C = trial.suggest_float('C', 1e-4, 10.0, log=True)\n",
    "    kernel = trial.suggest_categorical('kernel', ['linear', 'rbf', 'poly'])\n",
    "\n",
    "    model = SVC(C=C, kernel=kernel, random_state=42)\n",
    "    return accuracy_score(y_test, model.fit(X_train, y_train).predict(X_test))\n",
    "\n",
    "\n",
    "# Step 7: Run Optuna for SVM, log the best model only\n",
    "def run_optuna_experiment():\n",
    "    study = optuna.create_study(direction=\"maximize\")\n",
    "    study.optimize(objective_svm, n_trials=30)\n",
    "\n",
    "    # Get the best parameters and log only the best model\n",
    "    best_params = study.best_params\n",
    "    best_model = SVC(C=best_params['C'], kernel=best_params['kernel'], random_state=42)\n",
    "\n",
    "    # Log the best model with MLflow, passing the algo_name as \"SVM\"\n",
    "    log_mlflow(\"SVM\", best_model, X_train, X_test, y_train, y_test)\n",
    "\n",
    "# Run the experiment for SVM\n",
    "run_optuna_experiment()\n"
   ]
  },
  {
   "cell_type": "code",
   "execution_count": null,
   "id": "c48b3133",
   "metadata": {},
   "outputs": [],
   "source": []
  }
 ],
 "metadata": {
  "kernelspec": {
   "display_name": "myenv",
   "language": "python",
   "name": "python3"
  },
  "language_info": {
   "codemirror_mode": {
    "name": "ipython",
    "version": 3
   },
   "file_extension": ".py",
   "mimetype": "text/x-python",
   "name": "python",
   "nbconvert_exporter": "python",
   "pygments_lexer": "ipython3",
   "version": "3.11.3"
  }
 },
 "nbformat": 4,
 "nbformat_minor": 5
}
